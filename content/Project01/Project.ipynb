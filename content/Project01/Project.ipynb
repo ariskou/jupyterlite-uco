{
 "cells": [
  {
   "cell_type": "markdown",
   "id": "98aaab05",
   "metadata": {},
   "source": [
    "# Project for L2 - Informatique\n",
    "\n",
    "*In this project you will do some data cleaning, analysis and visualisation on datasets recording stock prices.*\n",
    "\n",
    "__**Submission date and hour: Tuesday 2023-04-18 at 20:00 in the evening. A penalty of 40% will be applied if the deadline is exceeed.**__\n",
    "\n",
    "The commands to load the datasets into pandas dataframes have been written for you but you still need to do all of the rest of the steps.\n",
    "\n",
    "This notebook is written in a step-by-step instructions manner, however, you are free to modify it to suit you.\n",
    "\n",
    "One thing to note is that there are three different datasets, and each one in it's entirety is quite big.\n",
    "\n",
    "You are **very strongly** encouraged to work initially on small subset of the datasets, and once you have verified that everything works well, load a bigger part of the datasets, eventually working on the whole datasets.\n",
    "\n",
    "Another think to keep in mind is that the three datasets are **very similar**: that have the same columns and they have the same number of rows. However, the values in the datasets are different, although they are *corellated* as it will be explained.\n"
   ]
  },
  {
   "cell_type": "markdown",
   "id": "47b3dd63",
   "metadata": {},
   "source": [
    "*Execute the following cell, you do not need to understand it, it just loads the appropriate packages so that you can work with the dataset*"
   ]
  },
  {
   "cell_type": "code",
   "execution_count": null,
   "id": "2f58f15f",
   "metadata": {},
   "outputs": [],
   "source": [
    "%pip install seaborn\n",
    "%pip install pandas-datareader\n",
    "\n",
    "import os\n",
    "for dirname, _, filenames in os.walk('/kaggle/input'):\n",
    "    for filename in filenames:\n",
    "        print(\"Data file found:\", os.path.join(dirname, filename))\n",
    "\n",
    "import numpy as np\n",
    "import pandas as pd\n",
    "import pandas_datareader.data as web\n",
    "from pandas import Series, DataFrame\n",
    "from random import Random\n",
    "import timeit\n",
    "import pickle\n",
    "\n",
    "import matplotlib.pyplot as plt\n",
    "import seaborn as sns\n",
    "\n",
    "from datetime import datetime, timedelta, date\n",
    "import math\n",
    "\n",
    "%matplotlib inline"
   ]
  },
  {
   "cell_type": "markdown",
   "id": "7c29b220",
   "metadata": {
    "jupyter": {
     "outputs_hidden": false
    }
   },
   "source": [
    "# Loading the dataset\n",
    "\n",
    "In the following cell you can configure which percentage of the dataset to load (1%-100%). Start with a low amount, e.g. 1% to test your solutions and then progressivle increase it (10%, 50%, 100%) to test bigger parts of the dataset.\n",
    "\n",
    "*Remember that you need to come back up here and re-execute all the cells*"
   ]
  },
  {
   "cell_type": "code",
   "execution_count": null,
   "id": "fc9964bd",
   "metadata": {},
   "outputs": [],
   "source": [
    "pd.read_pickle(\"Apple_10pct.pickle\")"
   ]
  },
  {
   "cell_type": "code",
   "execution_count": null,
   "id": "f1e418a8",
   "metadata": {},
   "outputs": [],
   "source": [
    "# importing the required module\n",
    "import timeit\n",
    " \n",
    "# code snippet to be executed only once\n",
    "mysetup = \"import pandas as pd\"\n",
    " \n",
    "# code snippet whose execution time is to be measured\n",
    "mycode = '''\n",
    "pd.read_pickle(\"Orange_100pct.pickle.gz\")\n",
    "'''\n",
    " \n",
    "# timeit statement\n",
    "print (timeit.timeit(setup = mysetup,\n",
    "                     stmt = mycode,\n",
    "                     number = 2))"
   ]
  }
 ],
 "metadata": {
  "kernelspec": {
   "display_name": "Python 3 (ipykernel)",
   "language": "python",
   "name": "python3"
  },
  "language_info": {
   "codemirror_mode": {
    "name": "ipython",
    "version": 3
   },
   "file_extension": ".py",
   "mimetype": "text/x-python",
   "name": "python",
   "nbconvert_exporter": "python",
   "pygments_lexer": "ipython3",
   "version": "3.9.7"
  },
  "papermill": {
   "default_parameters": {},
   "duration": 41.605443,
   "end_time": "2022-04-07T01:58:36.669061",
   "environment_variables": {},
   "exception": null,
   "input_path": "__notebook__.ipynb",
   "output_path": "__notebook__.ipynb",
   "parameters": {},
   "start_time": "2022-04-07T01:57:55.063618",
   "version": "2.3.3"
  }
 },
 "nbformat": 4,
 "nbformat_minor": 5
}
