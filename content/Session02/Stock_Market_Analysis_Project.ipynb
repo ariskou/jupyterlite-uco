{
 "cells": [
  {
   "cell_type": "markdown",
   "id": "cfde2c48",
   "metadata": {},
   "source": [
    "# Stock Market Analysis Project\n",
    "\n",
    "In this project, you will need to apply the skills you've learned to perform basic analysis of stock market data using Python. \n",
    "\n",
    "You'll start by loading and cleaning the data from a CSV file, clean and preprocess it, perform statistical analysis, and finally, visualize the results.\n",
    "\n",
    "## Objectives:\n",
    "- Load and preprocess stock market data from a CSV file.\n",
    "- Calculate basic statistical metrics for the stocks.\n",
    "- Visualize stock price trends and relationships between different stocks.\n",
    "\n",
    "## Submission of your work/solution:\n",
    "1. To submit the work you did (in groups) you need to go to the menu (top-left) and choosing `File`->`Save Notebook`.\n",
    "2. Then, go to the menu (top-left) and choose `File`->`Download`.\n",
    "3. Save the file to somewhere on your computer and upload it to the Course Assignment named `Assignment: Stock Market Analysis Project`\n",
    "\n",
    "## Bonus Section\n",
    "- Select a simple price prediction method\n",
    "- Train the model\n",
    "- Predict values\n",
    "- Evaluate vs the actual values\n",
    "\n",
    "**Instructions:** Follow the steps below, completing the tasks as indicated and answer the questions at the end."
   ]
  },
  {
   "cell_type": "markdown",
   "id": "6df146a0",
   "metadata": {},
   "source": [
    "## Step 1: Setting up The Environment\n",
    "First, we need to set up the Python environment with the necessary libraries. Execute the following cell to install the required packages if you haven't already."
   ]
  },
  {
   "cell_type": "code",
   "execution_count": null,
   "id": "8fa0dabe",
   "metadata": {},
   "outputs": [],
   "source": [
    "%pip install pandas matplotlib seaborn"
   ]
  },
  {
   "cell_type": "markdown",
   "id": "0ffa03e5",
   "metadata": {},
   "source": [
    "## Step 2: Importing Libraries\n",
    "Now, import the necessary libraries for this project. \n",
    "### TODO:\n",
    "- We will use Pandas for data manipulation, import it\n",
    "- We will use Matplotlib and Seaborn for data visualization, import them"
   ]
  },
  {
   "cell_type": "code",
   "execution_count": null,
   "id": "2bcb712b",
   "metadata": {},
   "outputs": [],
   "source": []
  },
  {
   "cell_type": "markdown",
   "id": "22f481a1",
   "metadata": {},
   "source": [
    "## Step 3: Loading the Data\n",
    "The first task is to load the stock data from the CSV file we provided. \n",
    "\n",
    "### TODO:\n",
    "- Use Pandas to read the data and store it in a DataFrame called `stocks`\n",
    "  - The file is named `sample_stock_data.csv`"
   ]
  },
  {
   "cell_type": "code",
   "execution_count": null,
   "id": "5ba1c14d",
   "metadata": {},
   "outputs": [],
   "source": []
  },
  {
   "cell_type": "markdown",
   "id": "fa99608f",
   "metadata": {},
   "source": [
    "### TODO:\n",
    " - Display the first five rows to inspect the data."
   ]
  },
  {
   "cell_type": "code",
   "execution_count": null,
   "id": "b7aa1f3b",
   "metadata": {},
   "outputs": [],
   "source": []
  },
  {
   "cell_type": "markdown",
   "id": "b5d3d99e",
   "metadata": {},
   "source": [
    "## Step 4: Data Cleaning\n",
    "Before analyzing the data, it's important to check for and handle any missing values or data anomalies. \n",
    "#### TODO:\n",
    "- Check for missing values and print them"
   ]
  },
  {
   "cell_type": "code",
   "execution_count": null,
   "id": "c69d4ff7",
   "metadata": {},
   "outputs": [],
   "source": []
  },
  {
   "cell_type": "markdown",
   "id": "9835ca92",
   "metadata": {},
   "source": [
    "#### TODO:\n",
    " - Fill any missing data with the previous day's stock price (backfilling)"
   ]
  },
  {
   "cell_type": "code",
   "execution_count": null,
   "id": "0d16914d",
   "metadata": {},
   "outputs": [],
   "source": []
  },
  {
   "cell_type": "markdown",
   "id": "42c697c6",
   "metadata": {},
   "source": [
    "#### TODO:\n",
    " - **Re-Check** for missing values and print them"
   ]
  },
  {
   "cell_type": "code",
   "execution_count": null,
   "id": "5d8656fe",
   "metadata": {},
   "outputs": [],
   "source": []
  },
  {
   "cell_type": "markdown",
   "id": "8e1627a0",
   "metadata": {},
   "source": [
    "## Step 5: Statistical Analysis\n",
    "Perform a basic analysis to understand the data better. Calculate the mean, median, and standard deviation for each stock's closing price. This will give you a basic idea of the location and variability of each stock."
   ]
  },
  {
   "cell_type": "markdown",
   "id": "3626eebf",
   "metadata": {},
   "source": [
    "#### TODO:\n",
    "- Calculate the mean, median, and standard deviation for each stock's closing price\n",
    "- Print the mean, median, and standard deviation for each stock's closing price"
   ]
  },
  {
   "cell_type": "code",
   "execution_count": null,
   "id": "427eb535",
   "metadata": {},
   "outputs": [],
   "source": []
  },
  {
   "cell_type": "markdown",
   "id": "ce7e3874",
   "metadata": {},
   "source": [
    "## Data Visualization\n",
    "Create visualizations to better understand the data:\n",
    "1. Time series plots for each stock.\n",
    "2. Histograms showing the distribution of closing prices for each stock.\n",
    "3. Scatter plots showing the relationship between different stocks.\n",
    "4. A correlation matrix between the stocks."
   ]
  },
  {
   "cell_type": "markdown",
   "id": "40e1d38a",
   "metadata": {},
   "source": [
    "#### TODO:\n",
    "- Draw **line plots** for each stock's price over time"
   ]
  },
  {
   "cell_type": "code",
   "execution_count": null,
   "id": "85489ddb",
   "metadata": {},
   "outputs": [],
   "source": []
  },
  {
   "cell_type": "markdown",
   "id": "c38fe14f",
   "metadata": {},
   "source": [
    "#### TODO:\n",
    "- Draw **histograms** showing the distribution of closing prices for each stock."
   ]
  },
  {
   "cell_type": "code",
   "execution_count": null,
   "id": "a78f8e1f",
   "metadata": {},
   "outputs": [],
   "source": []
  },
  {
   "cell_type": "markdown",
   "id": "292307fa",
   "metadata": {},
   "source": [
    "#### TODO:\n",
    "- Draw a **scatter plot** showing the relationship between:\n",
    "  - **AAPL** vs **MSFT**"
   ]
  },
  {
   "cell_type": "code",
   "execution_count": null,
   "id": "41c61375",
   "metadata": {},
   "outputs": [],
   "source": []
  },
  {
   "cell_type": "markdown",
   "id": "f80ae9fe",
   "metadata": {},
   "source": [
    "#### TODO:\n",
    "- Draw a **scatter plot** showing the relationship between:\n",
    "  - **AAPL** vs **GOOG**"
   ]
  },
  {
   "cell_type": "code",
   "execution_count": null,
   "id": "cb7fd103",
   "metadata": {},
   "outputs": [],
   "source": []
  },
  {
   "cell_type": "markdown",
   "id": "5e78203f",
   "metadata": {},
   "source": [
    "#### TODO:\n",
    "- Draw a **correlation matrix** using a heatmap between the stocks"
   ]
  },
  {
   "cell_type": "code",
   "execution_count": null,
   "id": "f71e445b",
   "metadata": {},
   "outputs": [],
   "source": []
  },
  {
   "cell_type": "markdown",
   "id": "4f78f944",
   "metadata": {},
   "source": [
    "## Summary\n",
    "In this project, you've performed basic data loading, cleaning, statistical analysis, and visualization of stock market data. "
   ]
  },
  {
   "cell_type": "markdown",
   "id": "498b7a7f",
   "metadata": {},
   "source": [
    "# Questions to answer (answer in the cell below in English or French)\n",
    "- **Q1**: Which stocks seem to move together? \n",
    "- **Q2**: What trends have you noticed?"
   ]
  },
  {
   "cell_type": "raw",
   "id": "94a5a20f",
   "metadata": {},
   "source": [
    "Answer Q1: ...."
   ]
  },
  {
   "cell_type": "raw",
   "id": "15e61c0c",
   "metadata": {},
   "source": [
    "Answer Q2: ...."
   ]
  },
  {
   "cell_type": "markdown",
   "id": "a89cd840",
   "metadata": {},
   "source": [
    "# Bonus part (optional)\n"
   ]
  },
  {
   "cell_type": "markdown",
   "id": "eec74765",
   "metadata": {},
   "source": [
    "### Introduction to Linear Regression\n",
    "\n",
    "Linear regression is a fundamental statistical and machine learning technique where the goal is to predict a dependent variable (outcome) based on one or more independent variables (predictors). In the context of stock prices:\n",
    "\n",
    "-   **Dependent variable (y)**: This is what you're trying to predict --- in this case, the current day's closing price of AAPL stock.\n",
    "-   **Independent variable(s) (X)**: These are the inputs to the model --- for this example, the previous day's closing price of AAPL stock.\n",
    "\n",
    "The model learns a line (in simple linear regression) or a hyperplane (in multiple linear regression) that best fits the data points. The best fit line is the one where the total sum of squared differences between the actual values and the predicted values (based on the line) is minimized.\n",
    "\n",
    "For further reading and tutorials on linear regression, check out the following:\n",
    "\n",
    "-   [Linear Regression in Python -- Real Python](https://realpython.com/linear-regression-in-python/)\n",
    "\n",
    "By following these tutorials and practicing with real datasets, you can gain a deeper understanding of linear regression and how it can be applied to various types of data, including financial markets.\n"
   ]
  },
  {
   "cell_type": "markdown",
   "id": "2859d3dc",
   "metadata": {},
   "source": [
    "## Setting up Your Environment\n",
    "First, we need to set up the Python environment with the necessary libraries. Execute the following cell to install the required packages if you haven't already."
   ]
  },
  {
   "cell_type": "code",
   "execution_count": null,
   "id": "abf6aeee",
   "metadata": {},
   "outputs": [],
   "source": [
    "%pip install scikit-learn"
   ]
  },
  {
   "cell_type": "markdown",
   "id": "09f2d7ce",
   "metadata": {},
   "source": [
    "## Importing Libraries\n",
    "Now, import the necessary libraries for this project. Provided ready-made for you.\n",
    "\n",
    "You just need to execute the following cell."
   ]
  },
  {
   "cell_type": "code",
   "execution_count": null,
   "id": "530c5c67",
   "metadata": {},
   "outputs": [],
   "source": [
    "from sklearn.model_selection import train_test_split\n",
    "from sklearn.linear_model import LinearRegression\n",
    "from sklearn.metrics import mean_squared_error, r2_score"
   ]
  },
  {
   "cell_type": "markdown",
   "id": "6ea6f3f8",
   "metadata": {},
   "source": [
    "## Feature Engineering\n",
    "\n",
    "#### TODO:\n",
    " - Create a new feature / column `AAPL_Previous` that represents the previous day's closing price.\n",
    "\n",
    "This will be used as input (`X`) to predict the current day's price (`y`).\n",
    "\n",
    "Hint: Look for the `shift` function"
   ]
  },
  {
   "cell_type": "code",
   "execution_count": null,
   "id": "c10935bc",
   "metadata": {},
   "outputs": [],
   "source": []
  },
  {
   "cell_type": "markdown",
   "id": "0af65728",
   "metadata": {},
   "source": [
    "## Prepare the Data\n",
    "We need to prepare the dataset for training and testing the model.\n",
    "\n",
    "#### TODO:\n",
    "- Drop the first row since it doesn't have a previous day's price due to the shift operation."
   ]
  },
  {
   "cell_type": "code",
   "execution_count": null,
   "id": "fc24036d",
   "metadata": {},
   "outputs": [],
   "source": []
  },
  {
   "cell_type": "markdown",
   "id": "2b9773fc",
   "metadata": {},
   "source": [
    "## Split the Data into Training and Testing Sets\n",
    "You want to use separate part of the full dataset for training the model and for testing it. If you do not do this, the model has a high probability of overfitting.\n",
    "\n",
    "#### TODO: \n",
    "- Divide the dataset into training and testing sets\n",
    "  - Use 70% of the data for training and 30% for testing the model\n",
    "  - You should get these four variables as a result: `X_train`, `X_test`, `y_train`, `y_test` \n",
    "\n",
    "Hint: use the `train_test_split` function."
   ]
  },
  {
   "cell_type": "code",
   "execution_count": null,
   "id": "bbe487cf",
   "metadata": {},
   "outputs": [],
   "source": []
  },
  {
   "cell_type": "markdown",
   "id": "345c74a9",
   "metadata": {},
   "source": [
    "## Create and train a Linear Regression Model\n",
    "\n",
    "#### TODO:\n",
    "- Create an \"empty\" Linear Regression model."
   ]
  },
  {
   "cell_type": "code",
   "execution_count": null,
   "id": "0a282841",
   "metadata": {},
   "outputs": [],
   "source": []
  },
  {
   "cell_type": "markdown",
   "id": "d196de05",
   "metadata": {},
   "source": [
    "#### TODO:\n",
    "- Train the Linear Regression model using the training data.\n",
    "\n",
    "Hint: use the `fit` function"
   ]
  },
  {
   "cell_type": "code",
   "execution_count": null,
   "id": "c573b482",
   "metadata": {},
   "outputs": [],
   "source": []
  },
  {
   "cell_type": "markdown",
   "id": "d96f696f",
   "metadata": {},
   "source": [
    "## Make Predictions and Evaluate the Model\n",
    "\n",
    "#### TODO: \n",
    "- Using the trained model, make predictions on the test set.\n",
    "\n",
    "Hint: use the `predict` function"
   ]
  },
  {
   "cell_type": "code",
   "execution_count": null,
   "id": "ec28d439",
   "metadata": {},
   "outputs": [],
   "source": []
  },
  {
   "cell_type": "markdown",
   "id": "a71292bb",
   "metadata": {},
   "source": [
    "#### TODO: \n",
    " - Evaluate the model's performance using mean squared error and R^2 score.\n",
    " \n",
    "Hint: look at the `mean_squared_error` and `r2_score` functions."
   ]
  },
  {
   "cell_type": "code",
   "execution_count": null,
   "id": "815c7f82",
   "metadata": {},
   "outputs": [],
   "source": []
  },
  {
   "cell_type": "markdown",
   "id": "831858ac",
   "metadata": {},
   "source": [
    "## Print Out Model Performance Metrics\n",
    "\n",
    "It's important to understand how well the model is performing.\n",
    "Lower Mean Squared Error and an R^2 score closer to 1 usually indicate a better fit.\n",
    "\n",
    "#### TODO: \n",
    "- Print the Mean Squared Error\n",
    "- Print the R^2 score"
   ]
  },
  {
   "cell_type": "code",
   "execution_count": null,
   "id": "66a70be0",
   "metadata": {},
   "outputs": [],
   "source": []
  },
  {
   "cell_type": "markdown",
   "id": "3b5ed424",
   "metadata": {},
   "source": [
    "## Plot the Actual vs Predicted Prices\n",
    "\n",
    "Let's visualize the model's predictions compared to the actual stock prices.\n",
    "This will give us a visual understanding of how well the model is predicting.\n",
    "\n",
    "#### TODO: \n",
    "- Plot the Actual vs Predicted AAPL Stock Prices\n",
    "  - The X axis should be the Previous Day Closing Price\n",
    "  - The Y axis should be the Next Day Closing Price\n",
    "  - Do a line plot of the predicted Next Day Closing Price\n",
    "  - Do a scatter plot of the actual Next Day Closing Price\n"
   ]
  },
  {
   "cell_type": "code",
   "execution_count": null,
   "id": "32da447c",
   "metadata": {},
   "outputs": [],
   "source": []
  },
  {
   "cell_type": "markdown",
   "id": "64173ede",
   "metadata": {},
   "source": [
    "## Plot the Actual vs Predicted Prices over time\n",
    "\n",
    "Let's visualize the model's predictions compared to the actual stock prices over time\n",
    "This will give us a visual understanding of how well the model is predicting in another visualisation.\n",
    "\n",
    "In order to achieve this it is very useful to combine the actual and the predicted prices into a single DataFrame for easy plotting.\n",
    "\n",
    "#### TODO:\n",
    "- Create new DataFrame with two columns and the index equal to the inital index (`y_test.index`):\n",
    "  - `Actual Price`: the `y_test`\n",
    "  - `Predicted Price`: the `y_pred`"
   ]
  },
  {
   "cell_type": "code",
   "execution_count": null,
   "id": "68aff4cd",
   "metadata": {},
   "outputs": [],
   "source": []
  },
  {
   "cell_type": "markdown",
   "id": "a7b687e7",
   "metadata": {},
   "source": [
    "It's also imperative that the rows in the new DataFrame are ordered by date (it is not done automatically)\n",
    "\n",
    "#### TODO:\n",
    "- Sort the index of the new DataFrame\n",
    "\n",
    "Hint: look at the `sort_index` function"
   ]
  },
  {
   "cell_type": "code",
   "execution_count": null,
   "id": "54412672",
   "metadata": {},
   "outputs": [],
   "source": []
  },
  {
   "cell_type": "markdown",
   "id": "278d0216",
   "metadata": {},
   "source": [
    "#### TODO: \n",
    "- Plot the Actual vs Predicted AAPL Stock Prices over time\n",
    "  - The X axis should be the Date\n",
    "  - The Y axis should be the Stock Price\n",
    "  - Do a line plot of the Predicted Price\n",
    "  - Do a line plot of the Actual Price"
   ]
  },
  {
   "cell_type": "code",
   "execution_count": null,
   "id": "bbcd7758",
   "metadata": {},
   "outputs": [],
   "source": []
  }
 ],
 "metadata": {
  "kernelspec": {
   "display_name": "Python 3 (ipykernel)",
   "language": "python",
   "name": "python3"
  },
  "language_info": {
   "codemirror_mode": {
    "name": "ipython",
    "version": 3
   },
   "file_extension": ".py",
   "mimetype": "text/x-python",
   "name": "python",
   "nbconvert_exporter": "python",
   "pygments_lexer": "ipython3",
   "version": "3.9.7"
  }
 },
 "nbformat": 4,
 "nbformat_minor": 5
}
