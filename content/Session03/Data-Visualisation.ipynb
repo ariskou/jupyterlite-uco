{
 "cells": [
  {
   "cell_type": "markdown",
   "metadata": {},
   "source": [
    "# Data visualisation"
   ]
  },
  {
   "cell_type": "code",
   "execution_count": null,
   "metadata": {},
   "outputs": [],
   "source": [
    "%pip install seaborn"
   ]
  },
  {
   "cell_type": "markdown",
   "metadata": {},
   "source": [
    "Often, the amount and complixity of the data available is so high, that it is impossible to \"just look at the numbers\".\n",
    "\n",
    "This is where data visualisation is beneficial. It allows, with the appropriate configuration and parameters, to condense the large volume of data into a more manageable for humans image.\n",
    "\n",
    "While traditional spreadsheet tools like Excel offer similar functionality, often more easily usable, they also have significant limitations in terms of the amount of data that they can process."
   ]
  },
  {
   "cell_type": "markdown",
   "metadata": {},
   "source": [
    "## In this tutorial\n",
    "\n",
    "Here, we will see how to use a popular software library for the Python language, called *Seaborn*, to visualise different aspects of our data.\n",
    "\n",
    "We will use two ready-made data set for this purpose."
   ]
  },
  {
   "cell_type": "markdown",
   "metadata": {},
   "source": [
    "### Initialisation\n",
    "\n",
    "The next block of code does some basic necessary initalisation and setup to allow us to use NumPy, Pandas and the *Seaborn* libraries.\n",
    "\n",
    "It is not very important that you understand the details."
   ]
  },
  {
   "cell_type": "code",
   "execution_count": null,
   "metadata": {
    "_cell_guid": "b1076dfc-b9ad-4769-8c92-a6c4dae69d19",
    "_uuid": "8f2839f25d086af736a60e9eeb907d3b93b6e0e5"
   },
   "outputs": [],
   "source": [
    "import numpy as np\n",
    "import pandas as pd\n",
    "import matplotlib.pyplot as plt\n",
    "import seaborn as sns\n",
    "import os\n",
    "from warnings import simplefilter\n",
    "\n",
    "simplefilter(\"ignore\")\n"
   ]
  },
  {
   "cell_type": "markdown",
   "metadata": {},
   "source": [
    "### Loading the datasets.\n",
    "\n",
    "As in previous sessions, we need to first *load* the data, into a Pandas data frame to able able to manipulate it.\n",
    "\n",
    "The following code will create *two* different  Pandas data frames:\n",
    "\n",
    "* `super_store_data`: Contains the data from the superstore dataset. Please see the description of the dataset here:  https://www.kaggle.com/datasets/vivek468/superstore-dataset-final\n",
    "* `human_resources_data`: Contains the data from the human resources dataset. Please see the description of the dataset here: https://www.kaggle.com/datasets/rhuebner/human-resources-data-set"
   ]
  },
  {
   "cell_type": "code",
   "execution_count": null,
   "metadata": {},
   "outputs": [],
   "source": [
    "# Load the super store dataset here\n",
    "super_store_data = pd.read_csv(\"Sample - Superstore.csv\", encoding = 'ISO-8859-1')\n",
    "\n",
    "# Load the human resources dataset here\n",
    "human_resources_data = pd.read_csv(\"HRDataset_v14.csv\")\n",
    "\n",
    "print(\"SuperStore columns:\", super_store_data.columns)\n",
    "print()\n",
    "print(\"HR columns:\", human_resources_data.columns)\n",
    "\n"
   ]
  },
  {
   "cell_type": "markdown",
   "metadata": {},
   "source": [
    "#### Print a small sample of the super store data"
   ]
  },
  {
   "cell_type": "code",
   "execution_count": null,
   "metadata": {},
   "outputs": [],
   "source": [
    "super_store_data.head()\n"
   ]
  },
  {
   "cell_type": "markdown",
   "metadata": {},
   "source": [
    "#### Print a small sample of the HR data"
   ]
  },
  {
   "cell_type": "code",
   "execution_count": null,
   "metadata": {},
   "outputs": [],
   "source": [
    "human_resources_data.head()"
   ]
  },
  {
   "cell_type": "markdown",
   "metadata": {},
   "source": [
    "### Basics of figures\n",
    "\n",
    "In order to create a digram (called \"*plots*\" here) with *Seaborn* you often start with the execution of the `plt.figure(...)` command. \n",
    "This is useful to set the size of the final diagram, and it clearlt indicates that in this cell we will be producing a plot at the end.\n",
    "\n",
    "After the `plt.figure()` command, one or more `sns.XYZ()` commands will be added, where `XYZ` is different depending on the type of plot wanted.\n",
    "\n",
    "We will see a number of different plots here and examples of how to use them."
   ]
  },
  {
   "cell_type": "markdown",
   "metadata": {},
   "source": [
    "## 1. Relationship plots\n",
    "Relationship plots are useful for showing the relationship between two or more variables.\n",
    "\n",
    "### 1. lineplot\n",
    "In this example, we add a figure, configure the figure's size and \"clarity\" and then add a lineplot with some data.\n",
    "\n",
    "The size of the figure is givena as 2-tuple (i.e. a pair) in the `figsize` parameter to `plt.figure()` function.\n",
    "\n",
    "In the lineplot added (`sns.lineplot()`):\n",
    "\n",
    "* The data comes from the HR dataset (`data = human_resources_data`)\n",
    "* The x axis values are the values of the `EngagementSurvey` column\n",
    "* The y axis values are the values of the `Salary` column"
   ]
  },
  {
   "cell_type": "code",
   "execution_count": null,
   "metadata": {},
   "outputs": [],
   "source": [
    "# Use this line to change the width and height of the seaborn plot.\n",
    "plt.figure(figsize = (10, 6))\n",
    "\n",
    "# Set the title of the plot.\n",
    "plt.title(\"Relationship between EngagementSurvey and Salary\")\n",
    "\n",
    "# Add a lineplot, with the x axis values being the values of the EngagementSurvey column in the HR dataset (human_resources_data)\n",
    "sns.lineplot(x = \"EngagementSurvey\", y = \"Salary\", data = human_resources_data)"
   ]
  },
  {
   "cell_type": "markdown",
   "metadata": {},
   "source": [
    "**EXERCISE**: Question: What is the relationship between the `Salary` and the `EngagementSurvey` columns? "
   ]
  },
  {
   "cell_type": "markdown",
   "metadata": {},
   "source": [
    "#### Choices:\n",
    "\n",
    "1. Linearly corellated (one is proportional to the other)\n",
    "2. Non-linearly corellated\n",
    "3. Non-corellated / no relationship exists\n",
    "\n",
    "#### **Your Answer**: ____"
   ]
  },
  {
   "cell_type": "markdown",
   "metadata": {},
   "source": [
    "#### Another example of the use of `lineplot`.\n",
    "\n",
    "In this example, you will notice a light green colour around the line. \n",
    "\n",
    "When you have multiple values in the y axis for the same value in the x axis, the `lineplot` will shows an *estimate* of the *central tendency* and a *confidence\n",
    "interval* for that estimate.\n",
    "\n",
    "Thus having a large green shaded area indicates that there is high variability for those corresponding values."
   ]
  },
  {
   "cell_type": "code",
   "execution_count": null,
   "metadata": {},
   "outputs": [],
   "source": [
    "plt.figure(figsize = (10, 6))\n",
    "\n",
    "plt.title(\"Relationship between SpecialProjectsCount and Salary\")\n",
    "\n",
    "sns.lineplot(x = \"SpecialProjectsCount\", y = \"Salary\", data = human_resources_data)"
   ]
  },
  {
   "cell_type": "markdown",
   "metadata": {},
   "source": [
    "**EXERCISE**: In the same way as the previous plot, do a plot of the *Relationship between `EmpSatisfaction` and `Salary`* using the HR dataset."
   ]
  },
  {
   "cell_type": "code",
   "execution_count": null,
   "metadata": {},
   "outputs": [],
   "source": [
    "# TODO: write here\n"
   ]
  },
  {
   "cell_type": "markdown",
   "metadata": {},
   "source": [
    "### 2. scatterplot \n",
    "\n",
    "The `scatterplot` is similar in many ways to the `lineplot` but the `sns.scatterplot()` function will not try to estimate the central tendency or the confidence interval in the data."
   ]
  },
  {
   "cell_type": "markdown",
   "metadata": {},
   "source": [
    "In this first example, we show the relationship between the number of absences and the number of days the employee was late in the last 30 days in the HR dataset.\n",
    "\n",
    "It shoud be clear here that there does not seem to be a relationship between these two variables."
   ]
  },
  {
   "cell_type": "code",
   "execution_count": null,
   "metadata": {},
   "outputs": [],
   "source": [
    "# Use this line to change the width and height of the seaborn plot.\n",
    "plt.figure(figsize = (10, 6))\n",
    "\n",
    "# Set the title of the plot.\n",
    "plt.title(\"Relationship between Absences and Salary\")\n",
    "\n",
    "sns.scatterplot(x = \"Absences\", y = \"DaysLateLast30\", data = human_resources_data)\n"
   ]
  },
  {
   "cell_type": "markdown",
   "metadata": {},
   "source": [
    "As an extension, we can also color the dots (the \"*markers*\" as they are called) with a color coming from another column. Let's use the `PerformanceScore` column to color the markers."
   ]
  },
  {
   "cell_type": "code",
   "execution_count": null,
   "metadata": {},
   "outputs": [],
   "source": [
    "# Use this line to change the width and height of the seaborn plot.\n",
    "plt.figure(figsize = (10, 6))\n",
    "\n",
    "# Set the title of the plot.\n",
    "plt.title(\"Relationship between Absences and Salary\")\n",
    "\n",
    "sns.scatterplot(x = \"Absences\", y = \"DaysLateLast30\", hue=\"PerformanceScore\", data = human_resources_data)\n"
   ]
  },
  {
   "cell_type": "markdown",
   "metadata": {},
   "source": [
    "**EXERCISE**: Question: What is the relationship between the `Absences`, `DaysLateLast30` and `PerformanceScore` columns? "
   ]
  },
  {
   "cell_type": "markdown",
   "metadata": {},
   "source": [
    "#### **Your Answer**: ____"
   ]
  },
  {
   "cell_type": "markdown",
   "metadata": {},
   "source": [
    "Finally, we can also change the shape (use the `style` parameter) and size (use the `size` parameter) of the markers with shapes and sizes coming from other columns.\n",
    "\n",
    "However, this may make the diagram hard to read, as in this example:"
   ]
  },
  {
   "cell_type": "code",
   "execution_count": null,
   "metadata": {},
   "outputs": [],
   "source": [
    "# Use this line to change the width and height of the seaborn plot.\n",
    "plt.figure(figsize = (10, 6))\n",
    "\n",
    "# Set the title of the plot.\n",
    "plt.title(\"Relationship between Absences and Salary\")\n",
    "\n",
    "sns.scatterplot(x = \"Absences\", y = \"DaysLateLast30\", hue=\"PerformanceScore\", style=\"EmpSatisfaction\", size=\"SpecialProjectsCount\", data = human_resources_data)\n"
   ]
  },
  {
   "cell_type": "markdown",
   "metadata": {},
   "source": [
    "**EXERCISE**: Create a scatterplot of the **super store** dataset, of the `Sales` (y) versus the `Profit` (x) and color the markers based on the `Category` column."
   ]
  },
  {
   "cell_type": "code",
   "execution_count": null,
   "metadata": {},
   "outputs": [],
   "source": [
    "# TODO: write here\n"
   ]
  },
  {
   "cell_type": "markdown",
   "metadata": {},
   "source": [
    "## 2. Categorical plots\n",
    "\n",
    "Sometimes the data in a column is not ordinal (e.g. numbers) but rather categorical. This type of data does not have a natural order. For example, in the HR datasat there is a column named `RecruitmentSource`, which contains where the employee was recruited from. Example values are `LinkedIn` and `Indeed`, but there is no obvious order to this values (e.g. one cannot say that `Indeed` > `LinkedIn`).\n"
   ]
  },
  {
   "cell_type": "markdown",
   "metadata": {},
   "source": [
    "### 1. countplot\n",
    "\n",
    "The `countplot` will count the number of rows with the same value for the column it get as a parameter.\n",
    "\n",
    "In the below example, using the HR dataset, for each value of the `RecruitmentSource` column, a separate count is produced."
   ]
  },
  {
   "cell_type": "code",
   "execution_count": null,
   "metadata": {},
   "outputs": [],
   "source": [
    "plt.figure(figsize = (18, 6))\n",
    "\n",
    "# Set the title of the plot.\n",
    "plt.title(\"Number of Employees hired from each Platform.\")\n",
    "\n",
    "sns.countplot(x = \"RecruitmentSource\", data = human_resources_data)"
   ]
  },
  {
   "cell_type": "markdown",
   "metadata": {},
   "source": [
    "**EXERCISE**: Question: Which are the the two most frequent recruitment sources?"
   ]
  },
  {
   "cell_type": "markdown",
   "metadata": {},
   "source": [
    "#### **Your Answer**: ____"
   ]
  },
  {
   "cell_type": "markdown",
   "metadata": {},
   "source": [
    "**EXERCISE**: Create a countplot of the **HR** dataset, of the `PerformanceScore` (x) column."
   ]
  },
  {
   "cell_type": "code",
   "execution_count": null,
   "metadata": {},
   "outputs": [],
   "source": [
    "# TODO: write here\n"
   ]
  },
  {
   "cell_type": "markdown",
   "metadata": {},
   "source": [
    "**EXERCISE**: Create a countplot of the **HR** dataset, of the `MarriedID` (x) column and also color the couns based on the `GenderID` column.\n",
    "\n",
    "*Hint: It's similar as for the scatterplot, also you can use the documentation*"
   ]
  },
  {
   "cell_type": "code",
   "execution_count": null,
   "metadata": {},
   "outputs": [],
   "source": [
    "# TODO: write here\n"
   ]
  },
  {
   "cell_type": "markdown",
   "metadata": {},
   "source": [
    "### 2. boxplot\n",
    "\n",
    "The `boxplot` (or box-and-whisker plot) shows the **distribution** of quantitative data in a way that facilitates comparisons between variables or across levels of a categorical variable.\n",
    "\n",
    "The box shows the quartiles of the dataset while the whiskers extend to show the rest of the distribution, except for points that are determined to be \"outliers\" using a method that is a function of the inter-quartile range."
   ]
  },
  {
   "cell_type": "code",
   "execution_count": null,
   "metadata": {},
   "outputs": [],
   "source": [
    "plt.figure(figsize = (10, 6))\n",
    "sns.boxplot(x = \"Category\", y = \"Sales\",  data = super_store_data)"
   ]
  },
  {
   "cell_type": "markdown",
   "metadata": {},
   "source": [
    "**EXERCISE**: Create a boxplot of the **super store** dataset, of the `Sales` (y) versus the `Region` (x) and color the markers based on the `Category` column."
   ]
  },
  {
   "cell_type": "code",
   "execution_count": null,
   "metadata": {},
   "outputs": [],
   "source": [
    "# TODO: write here\n"
   ]
  },
  {
   "cell_type": "markdown",
   "metadata": {},
   "source": [
    "### 3. violinplot\n",
    "\n",
    "The `violinplot` shows the distribution of quantitative data across categorical variables such that those distributions can be compared. \n",
    "\n",
    "Unlike a box plot, in which all of the plot components correspond to **actual datapoints**, the violin plot features a kernel density **estimation** of the underlying distribution."
   ]
  },
  {
   "cell_type": "code",
   "execution_count": null,
   "metadata": {},
   "outputs": [],
   "source": [
    "plt.figure(figsize = (10, 6))\n",
    "\n",
    "sns.violinplot(x = \"Category\", y = \"Sales\",  data = super_store_data)"
   ]
  },
  {
   "cell_type": "markdown",
   "metadata": {},
   "source": [
    "## 3. Distribution plots\n",
    "\n",
    "Often times it's useful to plot the distribution of the values of a column. These kinds of plots are called distribution plots.\n",
    "\n",
    "### 1. displot\n",
    "The `histplot` will plot histograms to show distributions of datasets.\n",
    "\n",
    "A histogram is a classic visualization tool that represents the distribution of one or more variables by **counting the number of observations** that fall within disrete **bins**.\n"
   ]
  },
  {
   "cell_type": "code",
   "execution_count": null,
   "metadata": {},
   "outputs": [],
   "source": [
    "plt.figure(figsize = (10, 6))\n",
    "sns.histplot(x='Sales', data = super_store_data, bins=30)"
   ]
  },
  {
   "cell_type": "markdown",
   "metadata": {},
   "source": [
    "**EXERCISE**: Create a histplot of the **HR** dataset, of the `PerformanceScore` (x) column and color the markers based on the `EmpSatisfaction` column."
   ]
  },
  {
   "cell_type": "code",
   "execution_count": null,
   "metadata": {},
   "outputs": [],
   "source": [
    "# TODO: write here\n"
   ]
  },
  {
   "cell_type": "markdown",
   "metadata": {},
   "source": [
    "### 2. kdeplot\n",
    "The `kdeplot` uses a kernel density estimate (KDE) as a method for visualizing the distribution of observations in a dataset, analagous to a histogram. \n",
    "\n",
    "The KDE represents the data using a continuous probability density curve in one or more dimensions."
   ]
  },
  {
   "cell_type": "code",
   "execution_count": null,
   "metadata": {},
   "outputs": [],
   "source": [
    "plt.figure(figsize = (10, 6))\n",
    "sns.kdeplot(data = super_store_data, x = \"Sales\", shade = True)"
   ]
  },
  {
   "cell_type": "markdown",
   "metadata": {},
   "source": [
    "**EXERCISE**: Create a kdeplot of the **HR** dataset, of the `EngagementSurvey` (x) column and color the markers based on the `EmpSatisfaction` column."
   ]
  },
  {
   "cell_type": "code",
   "execution_count": null,
   "metadata": {},
   "outputs": [],
   "source": [
    "# TODO: write here\n"
   ]
  },
  {
   "cell_type": "markdown",
   "metadata": {},
   "source": [
    "## 4. Matrix plots\n",
    "\n",
    "One useful thing to examine in a dataset is if two columns are correlated.\n",
    "\n",
    "To compute the pairwise correlation of columns all the columns, excluding NA/None values, you can use the `corr()` method on any Pandas dataframe object, as in the example below.\n"
   ]
  },
  {
   "cell_type": "code",
   "execution_count": null,
   "metadata": {},
   "outputs": [],
   "source": [
    "plt.figure(figsize = (10, 6))\n",
    "\n",
    "# Get the correlation matrix between all the columns in the dataframe super_store_data and store it in the new corr_matrix valiable\n",
    "corr_matrix = super_store_data.corr()\n",
    "\n",
    "# Plot the correlation matrix\n",
    "sns.heatmap(corr_matrix, vmax=0.9, annot=True)"
   ]
  },
  {
   "cell_type": "markdown",
   "metadata": {},
   "source": [
    "**EXERCISE**: Compute and show the correlation matrix for the **HR** dataset."
   ]
  },
  {
   "cell_type": "code",
   "execution_count": null,
   "metadata": {},
   "outputs": [],
   "source": [
    "# TODO: write here\n"
   ]
  },
  {
   "cell_type": "markdown",
   "metadata": {},
   "source": [
    "## 5. Scatterplot Matrix\n",
    "\n",
    "Finally, a way to quickly see all the realationships between all the numerical columns in a dataframe is to use the scatterplot matrix.\n",
    "\n",
    "For the **super store** dataset, it would be the following (it may take some time to finish):\n"
   ]
  },
  {
   "cell_type": "code",
   "execution_count": null,
   "metadata": {},
   "outputs": [],
   "source": [
    "plt.figure(figsize = (20, 20))\n",
    "\n",
    "sns.pairplot(super_store_data)"
   ]
  },
  {
   "cell_type": "markdown",
   "metadata": {},
   "source": [
    "**EXERCISE**: Compute and show the scatterplot matrix for the **super store** dataset, but color the markers based on the `Category` column."
   ]
  },
  {
   "cell_type": "code",
   "execution_count": null,
   "metadata": {},
   "outputs": [],
   "source": [
    "# TODO: write here\n"
   ]
  },
  {
   "cell_type": "code",
   "execution_count": null,
   "metadata": {},
   "outputs": [],
   "source": []
  }
 ],
 "metadata": {
  "kernelspec": {
   "display_name": "Python 3 (ipykernel)",
   "language": "python",
   "name": "python3"
  },
  "language_info": {
   "codemirror_mode": {
    "name": "ipython",
    "version": 3
   },
   "file_extension": ".py",
   "mimetype": "text/x-python",
   "name": "python",
   "nbconvert_exporter": "python",
   "pygments_lexer": "ipython3",
   "version": "3.9.7"
  }
 },
 "nbformat": 4,
 "nbformat_minor": 4
}
