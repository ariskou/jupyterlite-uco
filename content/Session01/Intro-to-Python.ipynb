{
  "metadata": {
    "anaconda-cloud": {},
    "celltoolbar": "Slideshow",
    "rise": {
      "scroll": true,
      "theme": "beige",
      "transition": "fade"
    },
    "kernelspec": {
      "name": "python",
      "display_name": "Python (Pyodide)",
      "language": "python"
    },
    "language_info": {
      "codemirror_mode": {
        "name": "python",
        "version": 3
      },
      "file_extension": ".py",
      "mimetype": "text/x-python",
      "name": "python",
      "nbconvert_exporter": "python",
      "pygments_lexer": "ipython3",
      "version": "3.8"
    }
  },
  "nbformat_minor": 4,
  "nbformat": 4,
  "cells": [
    {
      "cell_type": "markdown",
      "source": "# Introduction to Python ",
      "metadata": {
        "pycharm": {
          "name": "#%% md\n"
        },
        "slideshow": {
          "slide_type": "slide"
        }
      }
    },
    {
      "cell_type": "code",
      "source": "%pip install requests",
      "metadata": {
        "trusted": true
      },
      "execution_count": 1,
      "outputs": []
    },
    {
      "cell_type": "code",
      "source": "%matplotlib inline\n%config InlineBackend.figure_format='retina'\n# import libraries\nimport numpy as np\nimport matplotlib as mp\nimport pandas as pd\nimport matplotlib.pyplot as plt\nimport pandas as pd\nfrom importlib import reload\nfrom datetime import datetime\nfrom IPython.display import Image\nfrom IPython.display import display_html\nfrom IPython.display import display\nfrom IPython.display import Math\nfrom IPython.display import Latex\nfrom IPython.display import HTML;",
      "metadata": {
        "hide_input": true,
        "pycharm": {
          "name": "#%%\n"
        },
        "slideshow": {
          "slide_type": "skip"
        },
        "tags": [
          "hide-input"
        ],
        "trusted": true
      },
      "execution_count": 2,
      "outputs": []
    },
    {
      "cell_type": "markdown",
      "source": "## How do I run code?",
      "metadata": {
        "pycharm": {
          "name": "#%% md\n"
        },
        "slideshow": {
          "slide_type": "slide"
        }
      }
    },
    {
      "cell_type": "markdown",
      "source": "Use the system called `jupyter notebook` (the system we are using now)",
      "metadata": {
        "pycharm": {
          "name": "#%% md\n"
        },
        "slideshow": {
          "slide_type": "fragment"
        }
      }
    },
    {
      "cell_type": "markdown",
      "source": "## Functions and Methods",
      "metadata": {
        "pycharm": {
          "name": "#%% md\n"
        },
        "slideshow": {
          "slide_type": "slide"
        }
      }
    },
    {
      "cell_type": "markdown",
      "source": "Function calls use standard syntax:\n\n    func(argument1, argument2)",
      "metadata": {
        "pycharm": {
          "name": "#%% md\n"
        },
        "slideshow": {
          "slide_type": "fragment"
        }
      }
    },
    {
      "cell_type": "markdown",
      "source": "However most things you interact with in python are **objects** and they have **methods**.  A method is a function that operates on an object:\n\n    object.method(argument1, argument2)\n    \nNote that the method might modify the object, or it might return a new, different object.   You just have to know the method and keep track of what it does.",
      "metadata": {
        "pycharm": {
          "name": "#%% md\n"
        },
        "slideshow": {
          "slide_type": "fragment"
        }
      }
    },
    {
      "cell_type": "code",
      "source": "number_list = [1, 3, 5, 7]\nnumber_list.append(8)",
      "metadata": {
        "pycharm": {
          "name": "#%%\n"
        },
        "slideshow": {
          "slide_type": "fragment"
        },
        "trusted": true
      },
      "execution_count": 3,
      "outputs": []
    },
    {
      "cell_type": "code",
      "source": "number_list",
      "metadata": {
        "pycharm": {
          "name": "#%%\n"
        },
        "slideshow": {
          "slide_type": "fragment"
        },
        "trusted": true
      },
      "execution_count": 4,
      "outputs": [
        {
          "execution_count": 4,
          "output_type": "execute_result",
          "data": {
            "text/plain": "[1, 3, 5, 7, 8]"
          },
          "metadata": {}
        }
      ]
    },
    {
      "cell_type": "code",
      "source": "string = 'This is a string'\nstring.split()",
      "metadata": {
        "pycharm": {
          "name": "#%%\n"
        },
        "slideshow": {
          "slide_type": "fragment"
        },
        "trusted": true
      },
      "execution_count": 5,
      "outputs": [
        {
          "execution_count": 5,
          "output_type": "execute_result",
          "data": {
            "text/plain": "['This', 'is', 'a', 'string']"
          },
          "metadata": {}
        }
      ]
    },
    {
      "cell_type": "code",
      "source": "string",
      "metadata": {
        "pycharm": {
          "name": "#%%\n"
        },
        "slideshow": {
          "slide_type": "fragment"
        },
        "trusted": true
      },
      "execution_count": 6,
      "outputs": [
        {
          "execution_count": 6,
          "output_type": "execute_result",
          "data": {
            "text/plain": "'This is a string'"
          },
          "metadata": {}
        }
      ]
    },
    {
      "cell_type": "markdown",
      "source": "## Printing",
      "metadata": {
        "pycharm": {
          "name": "#%% md\n"
        },
        "slideshow": {
          "slide_type": "slide"
        }
      }
    },
    {
      "cell_type": "markdown",
      "source": "From the interactive python environment:",
      "metadata": {
        "pycharm": {
          "name": "#%% md\n"
        },
        "slideshow": {
          "slide_type": "fragment"
        }
      }
    },
    {
      "cell_type": "code",
      "source": "print(\"Hello World\")",
      "metadata": {
        "pycharm": {
          "name": "#%%\n"
        },
        "slideshow": {
          "slide_type": "fragment"
        },
        "trusted": true
      },
      "execution_count": 7,
      "outputs": [
        {
          "name": "stdout",
          "text": "Hello World\n",
          "output_type": "stream"
        }
      ]
    },
    {
      "cell_type": "markdown",
      "source": "From a file:",
      "metadata": {
        "pycharm": {
          "name": "#%% md\n"
        },
        "slideshow": {
          "slide_type": "fragment"
        }
      }
    },
    {
      "cell_type": "code",
      "source": "#!/usr/bin/env python\n\nprint(\"Hello World!\")",
      "metadata": {
        "pycharm": {
          "name": "#%%\n"
        },
        "slideshow": {
          "slide_type": "-"
        },
        "trusted": true
      },
      "execution_count": 8,
      "outputs": [
        {
          "name": "stdout",
          "text": "Hello World!\n",
          "output_type": "stream"
        }
      ]
    },
    {
      "cell_type": "markdown",
      "source": "## Data types",
      "metadata": {
        "pycharm": {
          "name": "#%% md\n"
        },
        "slideshow": {
          "slide_type": "slide"
        }
      }
    },
    {
      "cell_type": "markdown",
      "source": "Basic data types:\n\n1. Strings\n2. Integers\n3. Floats\n4. Booleans\n\nThese are all objects in Python. ",
      "metadata": {
        "pycharm": {
          "name": "#%% md\n"
        },
        "slideshow": {
          "slide_type": "fragment"
        }
      }
    },
    {
      "cell_type": "code",
      "source": "a = 7\ntype(a)",
      "metadata": {
        "pycharm": {
          "name": "#%%\n"
        },
        "slideshow": {
          "slide_type": "fragment"
        },
        "trusted": true
      },
      "execution_count": 9,
      "outputs": [
        {
          "execution_count": 9,
          "output_type": "execute_result",
          "data": {
            "text/plain": "int"
          },
          "metadata": {}
        }
      ]
    },
    {
      "cell_type": "code",
      "source": "b = 3\ntype(b)",
      "metadata": {
        "pycharm": {
          "name": "#%%\n"
        },
        "slideshow": {
          "slide_type": "fragment"
        },
        "trusted": true
      },
      "execution_count": 10,
      "outputs": [
        {
          "execution_count": 10,
          "output_type": "execute_result",
          "data": {
            "text/plain": "int"
          },
          "metadata": {}
        }
      ]
    },
    {
      "cell_type": "code",
      "source": "c = 3.2\ntype(c)",
      "metadata": {
        "pycharm": {
          "name": "#%%\n"
        },
        "slideshow": {
          "slide_type": "fragment"
        },
        "trusted": true
      },
      "execution_count": 11,
      "outputs": [
        {
          "execution_count": 11,
          "output_type": "execute_result",
          "data": {
            "text/plain": "float"
          },
          "metadata": {}
        }
      ]
    },
    {
      "cell_type": "code",
      "source": "d = True\ntype(d)",
      "metadata": {
        "pycharm": {
          "name": "#%%\n"
        },
        "slideshow": {
          "slide_type": "fragment"
        },
        "trusted": true
      },
      "execution_count": 12,
      "outputs": [
        {
          "execution_count": 12,
          "output_type": "execute_result",
          "data": {
            "text/plain": "bool"
          },
          "metadata": {}
        }
      ]
    },
    {
      "cell_type": "markdown",
      "source": "Python **doesn't require explicitly declared variable types** like C and other languages.  Python is dynamically typed.",
      "metadata": {
        "pycharm": {
          "name": "#%% md\n"
        },
        "slideshow": {
          "slide_type": "fragment"
        }
      }
    },
    {
      "cell_type": "code",
      "source": "myVar = 'I am a string'\nprint(myVar)\nmyVar = 2.3\nprint(myVar)",
      "metadata": {
        "pycharm": {
          "name": "#%%\n"
        },
        "slideshow": {
          "slide_type": "fragment"
        },
        "trusted": true
      },
      "execution_count": 13,
      "outputs": [
        {
          "name": "stdout",
          "text": "I am a string\n2.3\n",
          "output_type": "stream"
        }
      ]
    },
    {
      "cell_type": "markdown",
      "source": "## Strings",
      "metadata": {
        "pycharm": {
          "name": "#%% md\n"
        },
        "slideshow": {
          "slide_type": "slide"
        }
      }
    },
    {
      "cell_type": "markdown",
      "source": "String manipulation will be very important for many of the tasks we will do. Here are some important string operations.",
      "metadata": {
        "pycharm": {
          "name": "#%% md\n"
        },
        "slideshow": {
          "slide_type": "fragment"
        }
      }
    },
    {
      "cell_type": "markdown",
      "source": "A string uses either single quotes or double quotes.  Pick one option and be consistent.",
      "metadata": {
        "pycharm": {
          "name": "#%% md\n"
        },
        "slideshow": {
          "slide_type": "fragment"
        }
      }
    },
    {
      "cell_type": "code",
      "source": "'This is a string'",
      "metadata": {
        "pycharm": {
          "name": "#%%\n"
        },
        "slideshow": {
          "slide_type": "-"
        },
        "trusted": true
      },
      "execution_count": 14,
      "outputs": [
        {
          "execution_count": 14,
          "output_type": "execute_result",
          "data": {
            "text/plain": "'This is a string'"
          },
          "metadata": {}
        }
      ]
    },
    {
      "cell_type": "code",
      "source": "\"This is also a string\"",
      "metadata": {
        "pycharm": {
          "name": "#%%\n"
        },
        "slideshow": {
          "slide_type": "-"
        },
        "trusted": true
      },
      "execution_count": 15,
      "outputs": [
        {
          "execution_count": 15,
          "output_type": "execute_result",
          "data": {
            "text/plain": "'This is also a string'"
          },
          "metadata": {}
        }
      ]
    },
    {
      "cell_type": "markdown",
      "source": "The '+' operator concatenates strings.",
      "metadata": {
        "pycharm": {
          "name": "#%% md\n"
        },
        "slideshow": {
          "slide_type": "fragment"
        }
      }
    },
    {
      "cell_type": "code",
      "source": "a = \"Hello\"  \nb = \" World\" \na + b",
      "metadata": {
        "pycharm": {
          "name": "#%%\n"
        },
        "slideshow": {
          "slide_type": "-"
        },
        "trusted": true
      },
      "execution_count": 16,
      "outputs": [
        {
          "execution_count": 16,
          "output_type": "execute_result",
          "data": {
            "text/plain": "'Hello World'"
          },
          "metadata": {}
        }
      ]
    },
    {
      "cell_type": "markdown",
      "source": "Portions of strings are manipulated using indexing (which python calls 'slicing').",
      "metadata": {
        "pycharm": {
          "name": "#%% md\n"
        },
        "slideshow": {
          "slide_type": "fragment"
        }
      }
    },
    {
      "cell_type": "code",
      "source": "a = \"World\"\n\na[0]",
      "metadata": {
        "pycharm": {
          "name": "#%%\n"
        },
        "slideshow": {
          "slide_type": "fragment"
        },
        "trusted": true
      },
      "execution_count": 17,
      "outputs": [
        {
          "execution_count": 17,
          "output_type": "execute_result",
          "data": {
            "text/plain": "'W'"
          },
          "metadata": {}
        }
      ]
    },
    {
      "cell_type": "code",
      "source": "a[-1]",
      "metadata": {
        "pycharm": {
          "name": "#%%\n"
        },
        "slideshow": {
          "slide_type": "fragment"
        },
        "trusted": true
      },
      "execution_count": 18,
      "outputs": [
        {
          "execution_count": 18,
          "output_type": "execute_result",
          "data": {
            "text/plain": "'d'"
          },
          "metadata": {}
        }
      ]
    },
    {
      "cell_type": "code",
      "source": "\"World\"[0:4]",
      "metadata": {
        "pycharm": {
          "name": "#%%\n"
        },
        "slideshow": {
          "slide_type": "fragment"
        },
        "trusted": true
      },
      "execution_count": 19,
      "outputs": [
        {
          "execution_count": 19,
          "output_type": "execute_result",
          "data": {
            "text/plain": "'Worl'"
          },
          "metadata": {}
        }
      ]
    },
    {
      "cell_type": "code",
      "source": "a[::-1]",
      "metadata": {
        "pycharm": {
          "name": "#%%\n"
        },
        "slideshow": {
          "slide_type": "fragment"
        },
        "trusted": true
      },
      "execution_count": 20,
      "outputs": [
        {
          "execution_count": 20,
          "output_type": "execute_result",
          "data": {
            "text/plain": "'dlroW'"
          },
          "metadata": {}
        }
      ]
    },
    {
      "cell_type": "markdown",
      "source": "Some important string functions:",
      "metadata": {
        "pycharm": {
          "name": "#%% md\n"
        },
        "slideshow": {
          "slide_type": "fragment"
        }
      }
    },
    {
      "cell_type": "code",
      "source": "a = \"Hello World\"\n\"-\".join(a)",
      "metadata": {
        "pycharm": {
          "name": "#%%\n"
        },
        "slideshow": {
          "slide_type": "fragment"
        },
        "trusted": true
      },
      "execution_count": 21,
      "outputs": [
        {
          "execution_count": 21,
          "output_type": "execute_result",
          "data": {
            "text/plain": "'H-e-l-l-o- -W-o-r-l-d'"
          },
          "metadata": {}
        }
      ]
    },
    {
      "cell_type": "code",
      "source": "a.startswith(\"Wo\")",
      "metadata": {
        "pycharm": {
          "name": "#%%\n"
        },
        "slideshow": {
          "slide_type": "fragment"
        },
        "trusted": true
      },
      "execution_count": 22,
      "outputs": [
        {
          "execution_count": 22,
          "output_type": "execute_result",
          "data": {
            "text/plain": "False"
          },
          "metadata": {}
        }
      ]
    },
    {
      "cell_type": "code",
      "source": "a.endswith(\"rld\")",
      "metadata": {
        "pycharm": {
          "name": "#%%\n"
        },
        "slideshow": {
          "slide_type": "fragment"
        },
        "trusted": true
      },
      "execution_count": 23,
      "outputs": [
        {
          "execution_count": 23,
          "output_type": "execute_result",
          "data": {
            "text/plain": "True"
          },
          "metadata": {}
        }
      ]
    },
    {
      "cell_type": "code",
      "source": "a.replace(\"o\",\"0\").replace(\"d\",\"[)\").replace(\"l\",\"1\")",
      "metadata": {
        "pycharm": {
          "name": "#%%\n"
        },
        "slideshow": {
          "slide_type": "fragment"
        },
        "trusted": true
      },
      "execution_count": 24,
      "outputs": [
        {
          "execution_count": 24,
          "output_type": "execute_result",
          "data": {
            "text/plain": "'He110 W0r1[)'"
          },
          "metadata": {}
        }
      ]
    },
    {
      "cell_type": "code",
      "source": "a.split()",
      "metadata": {
        "pycharm": {
          "name": "#%%\n"
        },
        "slideshow": {
          "slide_type": "fragment"
        },
        "trusted": true
      },
      "execution_count": 25,
      "outputs": [
        {
          "execution_count": 25,
          "output_type": "execute_result",
          "data": {
            "text/plain": "['Hello', 'World']"
          },
          "metadata": {}
        }
      ]
    },
    {
      "cell_type": "code",
      "source": "a.split('o')",
      "metadata": {
        "pycharm": {
          "name": "#%%\n"
        },
        "slideshow": {
          "slide_type": "fragment"
        },
        "trusted": true
      },
      "execution_count": 26,
      "outputs": [
        {
          "execution_count": 26,
          "output_type": "execute_result",
          "data": {
            "text/plain": "['Hell', ' W', 'rld']"
          },
          "metadata": {}
        }
      ]
    },
    {
      "cell_type": "markdown",
      "source": "To create a string with embedded objects use the `.format()` method:",
      "metadata": {
        "pycharm": {
          "name": "#%% md\n"
        },
        "slideshow": {
          "slide_type": "fragment"
        }
      }
    },
    {
      "cell_type": "code",
      "source": "course_name = 'CS506'\nenrollment = 90\npercent_full = 100.0\n'The course {} has an enrollment of {} and is {} percent full.'.format(\n    course_name,enrollment,percent_full)",
      "metadata": {
        "pycharm": {
          "name": "#%%\n"
        },
        "slideshow": {
          "slide_type": "-"
        },
        "trusted": true
      },
      "execution_count": 27,
      "outputs": [
        {
          "execution_count": 27,
          "output_type": "execute_result",
          "data": {
            "text/plain": "'The course CS506 has an enrollment of 90 and is 100.0 percent full.'"
          },
          "metadata": {}
        }
      ]
    },
    {
      "cell_type": "markdown",
      "source": "A special formatting called an f-string allows you to print out variables very conveniently:",
      "metadata": {
        "pycharm": {
          "name": "#%% md\n"
        }
      }
    },
    {
      "cell_type": "code",
      "source": "f'The course {course_name} has an enrollment of {enrollment} and is {percent_full} percent full.'",
      "metadata": {
        "pycharm": {
          "name": "#%%\n"
        },
        "trusted": true
      },
      "execution_count": 28,
      "outputs": [
        {
          "execution_count": 28,
          "output_type": "execute_result",
          "data": {
            "text/plain": "'The course CS506 has an enrollment of 90 and is 100.0 percent full.'"
          },
          "metadata": {}
        }
      ]
    },
    {
      "cell_type": "markdown",
      "source": "## Code Structure",
      "metadata": {
        "pycharm": {
          "name": "#%% md\n"
        },
        "slideshow": {
          "slide_type": "slide"
        }
      }
    },
    {
      "cell_type": "markdown",
      "source": "Python uses indents and whitespace to group statements together.  To write a short loop in C, you might use:\n\n ```c\n for (i = 0, i < 5, i++){\n       printf(\"Hi! \\n\");\n    }\n ```",
      "metadata": {
        "pycharm": {
          "name": "#%% md\n"
        },
        "slideshow": {
          "slide_type": "fragment"
        }
      }
    },
    {
      "cell_type": "markdown",
      "source": "Python does not use curly braces like C, so the same program as above is written in Python as follows:",
      "metadata": {
        "pycharm": {
          "name": "#%% md\n"
        },
        "slideshow": {
          "slide_type": "fragment"
        }
      }
    },
    {
      "cell_type": "code",
      "source": "for i in range(5):\n    print(\"Hi\")",
      "metadata": {
        "pycharm": {
          "name": "#%%\n"
        },
        "slideshow": {
          "slide_type": "-"
        },
        "trusted": true
      },
      "execution_count": 29,
      "outputs": [
        {
          "name": "stdout",
          "text": "Hi\nHi\nHi\nHi\nHi\n",
          "output_type": "stream"
        }
      ]
    },
    {
      "cell_type": "markdown",
      "source": "If you have nested for-loops, there is a further indent for the inner loop.",
      "metadata": {
        "pycharm": {
          "name": "#%% md\n"
        },
        "slideshow": {
          "slide_type": "fragment"
        }
      }
    },
    {
      "cell_type": "code",
      "source": "for i in range(3):\n    for j in range(3):\n        print(i, j)\n    \n    print(\"This statement is within the i-loop, but not the j-loop\")",
      "metadata": {
        "pycharm": {
          "name": "#%%\n"
        },
        "slideshow": {
          "slide_type": "-"
        },
        "trusted": true
      },
      "execution_count": 30,
      "outputs": [
        {
          "name": "stdout",
          "text": "0 0\n0 1\n0 2\nThis statement is within the i-loop, but not the j-loop\n1 0\n1 1\n1 2\nThis statement is within the i-loop, but not the j-loop\n2 0\n2 1\n2 2\nThis statement is within the i-loop, but not the j-loop\n",
          "output_type": "stream"
        }
      ]
    },
    {
      "cell_type": "markdown",
      "source": "## File I/O",
      "metadata": {
        "pycharm": {
          "name": "#%% md\n"
        },
        "slideshow": {
          "slide_type": "slide"
        }
      }
    },
    {
      "cell_type": "markdown",
      "source": "`open()` and `close()` are used to access files.  However if you use the `with` statement the file close is automatically done for you.   \n\nYou should use `with`.",
      "metadata": {
        "pycharm": {
          "name": "#%% md\n"
        },
        "slideshow": {
          "slide_type": "fragment"
        }
      }
    },
    {
      "cell_type": "code",
      "source": "with open(\"example.txt\", \"w\") as f:\n    f.write(\"Hello World! \\n\")\n    f.write(\"How are you? \\n\")\n    f.write(\"I'm fine. OK.\\n\")",
      "metadata": {
        "pycharm": {
          "name": "#%%\n"
        },
        "slideshow": {
          "slide_type": "fragment"
        },
        "trusted": true
      },
      "execution_count": 31,
      "outputs": []
    },
    {
      "cell_type": "markdown",
      "source": "Reading from a file:",
      "metadata": {
        "pycharm": {
          "name": "#%% md\n"
        },
        "slideshow": {
          "slide_type": "fragment"
        }
      }
    },
    {
      "cell_type": "code",
      "source": "with open(\"example.txt\", \"r\") as f:\n    data = f.readlines()\n    for line in data:\n        words = line.split()\n        print(words)",
      "metadata": {
        "pycharm": {
          "name": "#%%\n"
        },
        "slideshow": {
          "slide_type": "-"
        },
        "trusted": true
      },
      "execution_count": 32,
      "outputs": [
        {
          "name": "stdout",
          "text": "['Hello', 'World!']\n['How', 'are', 'you?']\n[\"I'm\", 'fine.', 'OK.']\n",
          "output_type": "stream"
        }
      ]
    },
    {
      "cell_type": "markdown",
      "source": "Here is an example of counting the number of lines and words in a file:",
      "metadata": {
        "pycharm": {
          "name": "#%% md\n"
        },
        "slideshow": {
          "slide_type": "fragment"
        }
      }
    },
    {
      "cell_type": "code",
      "source": "lines = 0\nwords = 0\nthe_file = \"example.txt\"\n\nwith open(the_file, 'r') as f:\n    for line in f:\n        lines += 1\n        words += len(line.split())\nprint(f\"There are {lines} lines and {words} words in the {the_file} file.\")",
      "metadata": {
        "pycharm": {
          "name": "#%%\n"
        },
        "slideshow": {
          "slide_type": "-"
        },
        "trusted": true
      },
      "execution_count": 33,
      "outputs": [
        {
          "name": "stdout",
          "text": "There are 3 lines and 8 words in the example.txt file.\n",
          "output_type": "stream"
        }
      ]
    },
    {
      "cell_type": "markdown",
      "source": "## Lists, Tuples, Sets and Dictionaries",
      "metadata": {
        "pycharm": {
          "name": "#%% md\n"
        },
        "slideshow": {
          "slide_type": "slide"
        }
      }
    },
    {
      "cell_type": "markdown",
      "source": "Number and strings alone are not enough! We need data types that can hold multiple values.",
      "metadata": {
        "pycharm": {
          "name": "#%% md\n"
        },
        "slideshow": {
          "slide_type": "fragment"
        }
      }
    },
    {
      "cell_type": "markdown",
      "source": "### Lists ",
      "metadata": {
        "pycharm": {
          "name": "#%% md\n"
        },
        "slideshow": {
          "slide_type": "fragment"
        }
      }
    },
    {
      "cell_type": "markdown",
      "source": "A list is a collection of data items, which can be of differing types.",
      "metadata": {
        "pycharm": {
          "name": "#%% md\n"
        },
        "slideshow": {
          "slide_type": "fragment"
        }
      }
    },
    {
      "cell_type": "markdown",
      "source": "Here is an empty list:",
      "metadata": {
        "pycharm": {
          "name": "#%% md\n"
        },
        "slideshow": {
          "slide_type": "fragment"
        }
      }
    },
    {
      "cell_type": "code",
      "source": "groceries = []",
      "metadata": {
        "pycharm": {
          "name": "#%%\n"
        },
        "slideshow": {
          "slide_type": "-"
        },
        "trusted": true
      },
      "execution_count": 34,
      "outputs": []
    },
    {
      "cell_type": "markdown",
      "source": "A list is **mutable**, meaning that it can be altered.\n\nAdding to the list:",
      "metadata": {
        "pycharm": {
          "name": "#%% md\n"
        },
        "slideshow": {
          "slide_type": "fragment"
        }
      }
    },
    {
      "cell_type": "code",
      "source": "groceries.append(\"oranges\")  \ngroceries.append(\"meat\")\ngroceries.append(\"asparagus\")\ngroceries",
      "metadata": {
        "pycharm": {
          "name": "#%%\n"
        },
        "slideshow": {
          "slide_type": "-"
        },
        "trusted": true
      },
      "execution_count": 35,
      "outputs": [
        {
          "execution_count": 35,
          "output_type": "execute_result",
          "data": {
            "text/plain": "['oranges', 'meat', 'asparagus']"
          },
          "metadata": {}
        }
      ]
    },
    {
      "cell_type": "markdown",
      "source": "Accessing list items by index:",
      "metadata": {
        "pycharm": {
          "name": "#%% md\n"
        },
        "slideshow": {
          "slide_type": "fragment"
        }
      }
    },
    {
      "cell_type": "code",
      "source": "groceries[0]",
      "metadata": {
        "pycharm": {
          "name": "#%%\n"
        },
        "slideshow": {
          "slide_type": "fragment"
        },
        "trusted": true
      },
      "execution_count": 36,
      "outputs": [
        {
          "execution_count": 36,
          "output_type": "execute_result",
          "data": {
            "text/plain": "'oranges'"
          },
          "metadata": {}
        }
      ]
    },
    {
      "cell_type": "code",
      "source": "groceries[2]",
      "metadata": {
        "pycharm": {
          "name": "#%%\n"
        },
        "slideshow": {
          "slide_type": "-"
        },
        "trusted": true
      },
      "execution_count": 37,
      "outputs": [
        {
          "execution_count": 37,
          "output_type": "execute_result",
          "data": {
            "text/plain": "'asparagus'"
          },
          "metadata": {}
        }
      ]
    },
    {
      "cell_type": "code",
      "source": "len(groceries)",
      "metadata": {
        "pycharm": {
          "name": "#%%\n"
        },
        "slideshow": {
          "slide_type": "fragment"
        },
        "trusted": true
      },
      "execution_count": 38,
      "outputs": [
        {
          "execution_count": 38,
          "output_type": "execute_result",
          "data": {
            "text/plain": "3"
          },
          "metadata": {}
        }
      ]
    },
    {
      "cell_type": "markdown",
      "source": "Sort the items in the list:",
      "metadata": {
        "pycharm": {
          "name": "#%% md\n"
        },
        "slideshow": {
          "slide_type": "fragment"
        }
      }
    },
    {
      "cell_type": "code",
      "source": "groceries.sort()\ngroceries",
      "metadata": {
        "pycharm": {
          "name": "#%%\n"
        },
        "slideshow": {
          "slide_type": "-"
        },
        "trusted": true
      },
      "execution_count": 39,
      "outputs": [
        {
          "execution_count": 39,
          "output_type": "execute_result",
          "data": {
            "text/plain": "['asparagus', 'meat', 'oranges']"
          },
          "metadata": {}
        }
      ]
    },
    {
      "cell_type": "markdown",
      "source": "Remove an item from a list:",
      "metadata": {
        "pycharm": {
          "name": "#%% md\n"
        },
        "slideshow": {
          "slide_type": "fragment"
        }
      }
    },
    {
      "cell_type": "code",
      "source": "groceries.remove('asparagus')\ngroceries",
      "metadata": {
        "pycharm": {
          "name": "#%%\n"
        },
        "slideshow": {
          "slide_type": "-"
        },
        "trusted": true
      },
      "execution_count": 40,
      "outputs": [
        {
          "execution_count": 40,
          "output_type": "execute_result",
          "data": {
            "text/plain": "['meat', 'oranges']"
          },
          "metadata": {}
        }
      ]
    },
    {
      "cell_type": "markdown",
      "source": "Because lists are mutable, you can arbitrarily modify them.",
      "metadata": {
        "pycharm": {
          "name": "#%% md\n"
        }
      }
    },
    {
      "cell_type": "code",
      "source": "groceries[0] = 'peanut butter'\ngroceries",
      "metadata": {
        "pycharm": {
          "name": "#%%\n"
        },
        "slideshow": {
          "slide_type": "fragment"
        },
        "trusted": true
      },
      "execution_count": 41,
      "outputs": [
        {
          "execution_count": 41,
          "output_type": "execute_result",
          "data": {
            "text/plain": "['peanut butter', 'oranges']"
          },
          "metadata": {}
        }
      ]
    },
    {
      "cell_type": "markdown",
      "source": "### List Comprehensions",
      "metadata": {
        "pycharm": {
          "name": "#%% md\n"
        },
        "slideshow": {
          "slide_type": "slide"
        }
      }
    },
    {
      "cell_type": "markdown",
      "source": "A **list comprehension** makes a new list from an old list.  \n\nIt is __incredibly__ useful (learn how to use it!)",
      "metadata": {
        "pycharm": {
          "name": "#%% md\n"
        },
        "slideshow": {
          "slide_type": "fragment"
        }
      }
    },
    {
      "cell_type": "code",
      "source": "groceries = ['asparagus', 'meat', 'oranges']\nveggie = [x for x in groceries if x != \"meat\"]\nveggie",
      "metadata": {
        "pycharm": {
          "name": "#%%\n"
        },
        "slideshow": {
          "slide_type": "-"
        },
        "trusted": true
      },
      "execution_count": 42,
      "outputs": [
        {
          "execution_count": 42,
          "output_type": "execute_result",
          "data": {
            "text/plain": "['asparagus', 'oranges']"
          },
          "metadata": {}
        }
      ]
    },
    {
      "cell_type": "markdown",
      "source": "This is the same as:",
      "metadata": {
        "pycharm": {
          "name": "#%% md\n"
        },
        "slideshow": {
          "slide_type": "fragment"
        }
      }
    },
    {
      "cell_type": "code",
      "source": "newlist = []\nfor x in groceries:\n    if x != 'meat':\n        newlist.append(x)\nnewlist",
      "metadata": {
        "pycharm": {
          "name": "#%%\n"
        },
        "slideshow": {
          "slide_type": "-"
        },
        "trusted": true
      },
      "execution_count": 43,
      "outputs": [
        {
          "execution_count": 43,
          "output_type": "execute_result",
          "data": {
            "text/plain": "['asparagus', 'oranges']"
          },
          "metadata": {}
        }
      ]
    },
    {
      "cell_type": "markdown",
      "source": "Recall the mathematical notation:\n\n$$L_1 = \\left\\{x^2 : x \\in \\{0\\ldots 9\\}\\right\\}$$\n\n$$L_2 = \\left\\{1, 2, 4, 8,\\ldots, 2^{12}\\right\\}$$\n\n$$M = \\left\\{x \\mid x \\in L_1 \\text{ and } x \\text{ is even}\\right\\}$$",
      "metadata": {
        "pycharm": {
          "name": "#%% md\n"
        },
        "slideshow": {
          "slide_type": "fragment"
        }
      }
    },
    {
      "cell_type": "code",
      "source": "L1 = [x**2 for x in range(10)]\nL2 = [2**i for i in range(13)]\nprint(f'L1 is {L1}')\nprint(f'L2 is {L2}')",
      "metadata": {
        "pycharm": {
          "name": "#%%\n"
        },
        "slideshow": {
          "slide_type": "fragment"
        },
        "trusted": true
      },
      "execution_count": 44,
      "outputs": [
        {
          "name": "stdout",
          "text": "L1 is [0, 1, 4, 9, 16, 25, 36, 49, 64, 81]\nL2 is [1, 2, 4, 8, 16, 32, 64, 128, 256, 512, 1024, 2048, 4096]\n",
          "output_type": "stream"
        }
      ]
    },
    {
      "cell_type": "code",
      "source": "M = [x for x in L1 if x % 2 == 0]\nprint('M is {}'.format(M))",
      "metadata": {
        "pycharm": {
          "name": "#%%\n"
        },
        "slideshow": {
          "slide_type": "fragment"
        },
        "trusted": true
      },
      "execution_count": 45,
      "outputs": [
        {
          "name": "stdout",
          "text": "M is [0, 4, 16, 36, 64]\n",
          "output_type": "stream"
        }
      ]
    },
    {
      "cell_type": "markdown",
      "source": "A sort-of \"Sieve of Eratosthenes\" in list comprehensions.\n\nBasic idea: generate all composite numbers, remove them from the set of all numbers, and what is left are the prime nnumbers.",
      "metadata": {
        "pycharm": {
          "name": "#%% md\n"
        },
        "slideshow": {
          "slide_type": "fragment"
        }
      }
    },
    {
      "cell_type": "code",
      "source": "composites = [i*j for i in range(2,8) for j in range(2,8)]",
      "metadata": {
        "pycharm": {
          "name": "#%%\n"
        },
        "slideshow": {
          "slide_type": "-"
        },
        "trusted": true
      },
      "execution_count": 46,
      "outputs": []
    },
    {
      "cell_type": "code",
      "source": "primes = [x for x in range(1,50) if x not in composites]\nprint(primes)",
      "metadata": {
        "pycharm": {
          "name": "#%%\n"
        },
        "slideshow": {
          "slide_type": "-"
        },
        "trusted": true
      },
      "execution_count": 47,
      "outputs": [
        {
          "name": "stdout",
          "text": "[1, 2, 3, 5, 7, 11, 13, 17, 19, 22, 23, 26, 27, 29, 31, 32, 33, 34, 37, 38, 39, 40, 41, 43, 44, 45, 46, 47, 48]\n",
          "output_type": "stream"
        }
      ]
    },
    {
      "cell_type": "markdown",
      "source": "Notice how much more concise and clear the list comprehension is.  It's more efficient too.",
      "metadata": {
        "pycharm": {
          "name": "#%% md\n"
        },
        "slideshow": {
          "slide_type": "fragment"
        }
      }
    },
    {
      "cell_type": "markdown",
      "source": "### Sets",
      "metadata": {
        "pycharm": {
          "name": "#%% md\n"
        },
        "slideshow": {
          "slide_type": "slide"
        }
      }
    },
    {
      "cell_type": "markdown",
      "source": "A set is a collecton of items that cannot contain duplicates.  \n\nSets handle operations like sets in mathematics.",
      "metadata": {
        "pycharm": {
          "name": "#%% md\n"
        },
        "slideshow": {
          "slide_type": "fragment"
        }
      }
    },
    {
      "cell_type": "code",
      "source": "numbers = range(10)\nnumbers = set(numbers)\n\nevens = {0, 2, 4, 6, 8}\n\nodds = numbers - evens\nodds",
      "metadata": {
        "pycharm": {
          "name": "#%%\n"
        },
        "slideshow": {
          "slide_type": "fragment"
        },
        "trusted": true
      },
      "execution_count": 48,
      "outputs": [
        {
          "execution_count": 48,
          "output_type": "execute_result",
          "data": {
            "text/plain": "{1, 3, 5, 7, 9}"
          },
          "metadata": {}
        }
      ]
    },
    {
      "cell_type": "markdown",
      "source": "Sets also support the use of union (|), and intersection (&)",
      "metadata": {
        "pycharm": {
          "name": "#%% md\n"
        },
        "slideshow": {
          "slide_type": "-"
        }
      }
    },
    {
      "cell_type": "markdown",
      "source": "### Dictionaries",
      "metadata": {
        "pycharm": {
          "name": "#%% md\n"
        },
        "slideshow": {
          "slide_type": "slide"
        }
      }
    },
    {
      "cell_type": "markdown",
      "source": "A dictionary is a map of keys to values.  \n\n**Keys must be unique**.",
      "metadata": {
        "pycharm": {
          "name": "#%% md\n"
        },
        "slideshow": {
          "slide_type": "fragment"
        }
      }
    },
    {
      "cell_type": "code",
      "source": "simple_dict = {}\n\nsimple_dict['cs506'] = 'data-mining tools'\n\nsimple_dict['cs506']",
      "metadata": {
        "pycharm": {
          "name": "#%%\n"
        },
        "slideshow": {
          "slide_type": "fragment"
        },
        "trusted": true
      },
      "execution_count": 49,
      "outputs": [
        {
          "execution_count": 49,
          "output_type": "execute_result",
          "data": {
            "text/plain": "'data-mining tools'"
          },
          "metadata": {}
        }
      ]
    },
    {
      "cell_type": "markdown",
      "source": "Creating an already-initialized dictionary.   Note the use of curly braces.",
      "metadata": {
        "pycharm": {
          "name": "#%% md\n"
        },
        "slideshow": {
          "slide_type": "fragment"
        }
      }
    },
    {
      "cell_type": "code",
      "source": "classes = {\n    'cs506': 'data-mining tools',\n    'cs565': 'data-mining algorithms'\n}",
      "metadata": {
        "pycharm": {
          "name": "#%%\n"
        },
        "slideshow": {
          "slide_type": "-"
        },
        "trusted": true
      },
      "execution_count": 50,
      "outputs": []
    },
    {
      "cell_type": "markdown",
      "source": "Check if item is in dictionary",
      "metadata": {
        "pycharm": {
          "name": "#%% md\n"
        },
        "slideshow": {
          "slide_type": "fragment"
        }
      }
    },
    {
      "cell_type": "code",
      "source": "'cs530' in classes",
      "metadata": {
        "pycharm": {
          "name": "#%%\n"
        },
        "slideshow": {
          "slide_type": "-"
        },
        "trusted": true
      },
      "execution_count": 51,
      "outputs": [
        {
          "execution_count": 51,
          "output_type": "execute_result",
          "data": {
            "text/plain": "False"
          },
          "metadata": {}
        }
      ]
    },
    {
      "cell_type": "markdown",
      "source": "Add new item",
      "metadata": {
        "pycharm": {
          "name": "#%% md\n"
        },
        "slideshow": {
          "slide_type": "fragment"
        }
      }
    },
    {
      "cell_type": "code",
      "source": "classes['cs530'] = 'algorithms'\nclasses['cs530']",
      "metadata": {
        "pycharm": {
          "name": "#%%\n"
        },
        "slideshow": {
          "slide_type": "-"
        },
        "trusted": true
      },
      "execution_count": 52,
      "outputs": [
        {
          "execution_count": 52,
          "output_type": "execute_result",
          "data": {
            "text/plain": "'algorithms'"
          },
          "metadata": {}
        }
      ]
    },
    {
      "cell_type": "markdown",
      "source": "Get just the keys",
      "metadata": {
        "pycharm": {
          "name": "#%% md\n"
        },
        "slideshow": {
          "slide_type": "fragment"
        }
      }
    },
    {
      "cell_type": "code",
      "source": "classes.keys()",
      "metadata": {
        "pycharm": {
          "name": "#%%\n"
        },
        "slideshow": {
          "slide_type": "-"
        },
        "trusted": true
      },
      "execution_count": 53,
      "outputs": [
        {
          "execution_count": 53,
          "output_type": "execute_result",
          "data": {
            "text/plain": "dict_keys(['cs506', 'cs565', 'cs530'])"
          },
          "metadata": {}
        }
      ]
    },
    {
      "cell_type": "markdown",
      "source": "Get just the values",
      "metadata": {
        "pycharm": {
          "name": "#%% md\n"
        },
        "slideshow": {
          "slide_type": "fragment"
        }
      }
    },
    {
      "cell_type": "code",
      "source": "classes.values()",
      "metadata": {
        "pycharm": {
          "name": "#%%\n"
        },
        "slideshow": {
          "slide_type": "-"
        },
        "trusted": true
      },
      "execution_count": 54,
      "outputs": [
        {
          "execution_count": 54,
          "output_type": "execute_result",
          "data": {
            "text/plain": "dict_values(['data-mining tools', 'data-mining algorithms', 'algorithms'])"
          },
          "metadata": {}
        }
      ]
    },
    {
      "cell_type": "markdown",
      "source": "Get the items in the dictionary",
      "metadata": {
        "pycharm": {
          "name": "#%% md\n"
        },
        "slideshow": {
          "slide_type": "fragment"
        }
      }
    },
    {
      "cell_type": "code",
      "source": "classes.items()",
      "metadata": {
        "pycharm": {
          "name": "#%%\n"
        },
        "slideshow": {
          "slide_type": "-"
        },
        "trusted": true
      },
      "execution_count": 55,
      "outputs": [
        {
          "execution_count": 55,
          "output_type": "execute_result",
          "data": {
            "text/plain": "dict_items([('cs506', 'data-mining tools'), ('cs565', 'data-mining algorithms'), ('cs530', 'algorithms')])"
          },
          "metadata": {}
        }
      ]
    },
    {
      "cell_type": "markdown",
      "source": "Get dictionary pairs another way",
      "metadata": {
        "pycharm": {
          "name": "#%% md\n"
        },
        "slideshow": {
          "slide_type": "fragment"
        }
      }
    },
    {
      "cell_type": "code",
      "source": "for key, value in classes.items():\n    print(key, value)",
      "metadata": {
        "pycharm": {
          "name": "#%%\n"
        },
        "slideshow": {
          "slide_type": "-"
        },
        "trusted": true
      },
      "execution_count": 56,
      "outputs": [
        {
          "name": "stdout",
          "text": "cs506 data-mining tools\ncs565 data-mining algorithms\ncs530 algorithms\n",
          "output_type": "stream"
        }
      ]
    },
    {
      "cell_type": "markdown",
      "source": "Dictionaries can be combined to make complex (and very useful) data structures.\n\nHere is a list within a dictionary within a dictionary.",
      "metadata": {
        "pycharm": {
          "name": "#%% md\n"
        },
        "slideshow": {
          "slide_type": "fragment"
        }
      }
    },
    {
      "cell_type": "code",
      "source": "professors = {\n    \"prof1\": {\n        \"name\": \"Evimaria Terzi\",\n        \"interests\": [\"algorithms\", \"data mining\", \"machine learning\"]\n    },\n    \"prof2\": {\n        \"name\": \"Mark Crovella\",\n        \"interests\": [\"computer networks\", \"data mining\", \"biological networks\"]\n    },\n    \"prof3\": {\n        \"name\": \"George Kollios\",\n        \"interests\": [\"databases\", \"data mining\"]\n    }\n}",
      "metadata": {
        "pycharm": {
          "name": "#%%\n"
        },
        "slideshow": {
          "slide_type": "-"
        },
        "trusted": true
      },
      "execution_count": 57,
      "outputs": []
    },
    {
      "cell_type": "code",
      "source": "for prof in professors:\n    print('{} is interested in {}.'.format(\n            professors[prof][\"name\"],\n            professors[prof][\"interests\"][0]))",
      "metadata": {
        "pycharm": {
          "name": "#%%\n"
        },
        "slideshow": {
          "slide_type": "fragment"
        },
        "trusted": true
      },
      "execution_count": 58,
      "outputs": [
        {
          "name": "stdout",
          "text": "Evimaria Terzi is interested in algorithms.\nMark Crovella is interested in computer networks.\nGeorge Kollios is interested in databases.\n",
          "output_type": "stream"
        }
      ]
    },
    {
      "cell_type": "markdown",
      "source": "### Tuples",
      "metadata": {
        "pycharm": {
          "name": "#%% md\n"
        },
        "slideshow": {
          "slide_type": "slide"
        }
      }
    },
    {
      "cell_type": "markdown",
      "source": "Tuples are an **immutable** type. Like strings, once you create them, you cannot change them.  \n\nBecause they are immutabile you can use them as keys in dictionaries.  \n\nHowever, they are similar to lists in that they are a collection of data and that data can be of differing types.  ",
      "metadata": {
        "pycharm": {
          "name": "#%% md\n"
        },
        "slideshow": {
          "slide_type": "fragment"
        }
      }
    },
    {
      "cell_type": "markdown",
      "source": "Here is a tuple version of our grocery list.",
      "metadata": {
        "pycharm": {
          "name": "#%% md\n"
        },
        "slideshow": {
          "slide_type": "fragment"
        }
      }
    },
    {
      "cell_type": "code",
      "source": "groceries = ('orange', 'meat', 'asparagus', 2.5, True)\ngroceries",
      "metadata": {
        "pycharm": {
          "name": "#%%\n"
        },
        "slideshow": {
          "slide_type": "-"
        },
        "trusted": true
      },
      "execution_count": 59,
      "outputs": [
        {
          "execution_count": 59,
          "output_type": "execute_result",
          "data": {
            "text/plain": "('orange', 'meat', 'asparagus', 2.5, True)"
          },
          "metadata": {}
        }
      ]
    },
    {
      "cell_type": "code",
      "source": "groceries[2]",
      "metadata": {
        "pycharm": {
          "name": "#%%\n"
        },
        "slideshow": {
          "slide_type": "fragment"
        },
        "trusted": true
      },
      "execution_count": 60,
      "outputs": [
        {
          "execution_count": 60,
          "output_type": "execute_result",
          "data": {
            "text/plain": "'asparagus'"
          },
          "metadata": {}
        }
      ]
    },
    {
      "cell_type": "markdown",
      "source": "### Iterators and Generators",
      "metadata": {
        "pycharm": {
          "name": "#%% md\n"
        },
        "slideshow": {
          "slide_type": "slide"
        }
      }
    },
    {
      "cell_type": "markdown",
      "source": "We can loop over the elements of a list using **for**",
      "metadata": {
        "pycharm": {
          "name": "#%% md\n"
        },
        "slideshow": {
          "slide_type": "fragment"
        }
      }
    },
    {
      "cell_type": "code",
      "source": "for i in range(4):\n    print(i)",
      "metadata": {
        "pycharm": {
          "name": "#%%\n"
        },
        "slideshow": {
          "slide_type": "-"
        },
        "trusted": true
      },
      "execution_count": 61,
      "outputs": [
        {
          "name": "stdout",
          "text": "0\n1\n2\n3\n",
          "output_type": "stream"
        }
      ]
    },
    {
      "cell_type": "markdown",
      "source": "When we use **for** for dictionaries it loops over the keys of the dictionary",
      "metadata": {
        "pycharm": {
          "name": "#%% md\n"
        },
        "slideshow": {
          "slide_type": "fragment"
        }
      }
    },
    {
      "cell_type": "code",
      "source": "for k in {'evimaria': 'terzi', 'george': 'kollios'}:\n    print(k)",
      "metadata": {
        "pycharm": {
          "name": "#%%\n"
        },
        "slideshow": {
          "slide_type": "-"
        },
        "trusted": true
      },
      "execution_count": 62,
      "outputs": [
        {
          "name": "stdout",
          "text": "evimaria\ngeorge\n",
          "output_type": "stream"
        }
      ]
    },
    {
      "cell_type": "markdown",
      "source": "When we use **for** for strings it loops over the letters of the string:",
      "metadata": {
        "pycharm": {
          "name": "#%% md\n"
        },
        "slideshow": {
          "slide_type": "fragment"
        }
      }
    },
    {
      "cell_type": "code",
      "source": "for l in 'python is magic':\n    print(l)",
      "metadata": {
        "pycharm": {
          "name": "#%%\n"
        },
        "slideshow": {
          "slide_type": "-"
        },
        "trusted": true
      },
      "execution_count": 63,
      "outputs": [
        {
          "name": "stdout",
          "text": "p\ny\nt\nh\no\nn\n \ni\ns\n \nm\na\ng\ni\nc\n",
          "output_type": "stream"
        }
      ]
    },
    {
      "cell_type": "markdown",
      "source": "What do these cases all have in common?   All of them are **iterable** objects.",
      "metadata": {
        "pycharm": {
          "name": "#%% md\n"
        },
        "slideshow": {
          "slide_type": "fragment"
        }
      }
    },
    {
      "cell_type": "code",
      "source": "list({'evimaria': 'terzi', 'george': 'kollios'})",
      "metadata": {
        "pycharm": {
          "name": "#%%\n"
        },
        "slideshow": {
          "slide_type": "-"
        },
        "trusted": true
      },
      "execution_count": 64,
      "outputs": [
        {
          "execution_count": 64,
          "output_type": "execute_result",
          "data": {
            "text/plain": "['evimaria', 'george']"
          },
          "metadata": {}
        }
      ]
    },
    {
      "cell_type": "code",
      "source": "list('python is magic')",
      "metadata": {
        "pycharm": {
          "name": "#%%\n"
        },
        "slideshow": {
          "slide_type": "-"
        },
        "trusted": true
      },
      "execution_count": 65,
      "outputs": [
        {
          "execution_count": 65,
          "output_type": "execute_result",
          "data": {
            "text/plain": "['p', 'y', 't', 'h', 'o', 'n', ' ', 'i', 's', ' ', 'm', 'a', 'g', 'i', 'c']"
          },
          "metadata": {}
        }
      ]
    },
    {
      "cell_type": "code",
      "source": "'-'.join('evimaria')",
      "metadata": {
        "pycharm": {
          "name": "#%%\n"
        },
        "slideshow": {
          "slide_type": "-"
        },
        "trusted": true
      },
      "execution_count": 66,
      "outputs": [
        {
          "execution_count": 66,
          "output_type": "execute_result",
          "data": {
            "text/plain": "'e-v-i-m-a-r-i-a'"
          },
          "metadata": {}
        }
      ]
    },
    {
      "cell_type": "code",
      "source": "'-'.join(['a','b','c'])",
      "metadata": {
        "pycharm": {
          "name": "#%%\n"
        },
        "slideshow": {
          "slide_type": "-"
        },
        "trusted": true
      },
      "execution_count": 67,
      "outputs": [
        {
          "execution_count": 67,
          "output_type": "execute_result",
          "data": {
            "text/plain": "'a-b-c'"
          },
          "metadata": {}
        }
      ]
    },
    {
      "cell_type": "markdown",
      "source": "## Defining Functions",
      "metadata": {
        "pycharm": {
          "name": "#%% md\n"
        },
        "slideshow": {
          "slide_type": "slide"
        }
      }
    },
    {
      "cell_type": "markdown",
      "source": "Define a function",
      "metadata": {}
    },
    {
      "cell_type": "code",
      "source": "def displayperson(name,age):\n    print(\"My name is {} and I am {} years old.\".format(name,age))\n    return\n",
      "metadata": {
        "pycharm": {
          "name": "#%%\n"
        },
        "scrolled": true,
        "slideshow": {
          "slide_type": "fragment"
        },
        "trusted": true
      },
      "execution_count": 68,
      "outputs": []
    },
    {
      "cell_type": "markdown",
      "source": "Execute (or also named \"call\") a function",
      "metadata": {}
    },
    {
      "cell_type": "code",
      "source": "displayperson(\"Larry\",\"40\")",
      "metadata": {
        "trusted": true
      },
      "execution_count": 69,
      "outputs": [
        {
          "name": "stdout",
          "text": "My name is Larry and I am 40 years old.\n",
          "output_type": "stream"
        }
      ]
    },
    {
      "cell_type": "markdown",
      "source": "## Functional Programming",
      "metadata": {
        "pycharm": {
          "name": "#%% md\n"
        },
        "slideshow": {
          "slide_type": "slide"
        }
      }
    },
    {
      "cell_type": "markdown",
      "source": "Functional programming is particularly valuable and common when working with data.  \n\nWe'll see more sophisticated examples of this sort of programming later.",
      "metadata": {
        "pycharm": {
          "name": "#%% md\n"
        },
        "slideshow": {
          "slide_type": "-"
        }
      }
    },
    {
      "cell_type": "markdown",
      "source": "### Lambda functions",
      "metadata": {
        "pycharm": {
          "name": "#%% md\n"
        },
        "slideshow": {
          "slide_type": "fragment"
        }
      }
    },
    {
      "cell_type": "markdown",
      "source": "Python supports the creation of anonymous functions (i.e. functions that are not bound to a name) at runtime, using a construct called `lambda`.",
      "metadata": {
        "pycharm": {
          "name": "#%% md\n"
        },
        "slideshow": {
          "slide_type": "fragment"
        }
      }
    },
    {
      "cell_type": "code",
      "source": "def f(x):\n    return x**2\nf(8)",
      "metadata": {
        "pycharm": {
          "name": "#%%\n"
        },
        "slideshow": {
          "slide_type": "-"
        },
        "trusted": true
      },
      "execution_count": 70,
      "outputs": [
        {
          "execution_count": 70,
          "output_type": "execute_result",
          "data": {
            "text/plain": "64"
          },
          "metadata": {}
        }
      ]
    },
    {
      "cell_type": "code",
      "source": "g = lambda x: x**2\ng(8)",
      "metadata": {
        "pycharm": {
          "name": "#%%\n"
        },
        "slideshow": {
          "slide_type": "fragment"
        },
        "trusted": true
      },
      "execution_count": 71,
      "outputs": [
        {
          "execution_count": 71,
          "output_type": "execute_result",
          "data": {
            "text/plain": "64"
          },
          "metadata": {}
        }
      ]
    },
    {
      "cell_type": "code",
      "source": "(lambda x: x**2)(8)",
      "metadata": {
        "pycharm": {
          "name": "#%%\n"
        },
        "slideshow": {
          "slide_type": "fragment"
        },
        "trusted": true
      },
      "execution_count": 72,
      "outputs": [
        {
          "execution_count": 72,
          "output_type": "execute_result",
          "data": {
            "text/plain": "64"
          },
          "metadata": {}
        }
      ]
    },
    {
      "cell_type": "markdown",
      "source": "The above pieces of code are all equivalent! Note that there is no `return` statement in the `lambda` function.  Instead there is just a single expression, which defines what the function returns.\n\nA `lambda` function can take multiple arguments.   However it has to get all its work done in a single line of code!",
      "metadata": {
        "pycharm": {
          "name": "#%% md\n"
        },
        "slideshow": {
          "slide_type": "fragment"
        }
      }
    },
    {
      "cell_type": "code",
      "source": "f = lambda x, y : x + y\nf(2,3)",
      "metadata": {
        "pycharm": {
          "name": "#%%\n"
        },
        "slideshow": {
          "slide_type": "-"
        },
        "trusted": true
      },
      "execution_count": 73,
      "outputs": [
        {
          "execution_count": 73,
          "output_type": "execute_result",
          "data": {
            "text/plain": "5"
          },
          "metadata": {}
        }
      ]
    },
    {
      "cell_type": "markdown",
      "source": "A `lambda` function does not need to be assigned to variable, but it can be used within the code wherever a function is expected.",
      "metadata": {
        "pycharm": {
          "name": "#%% md\n"
        },
        "slideshow": {
          "slide_type": "fragment"
        }
      }
    },
    {
      "cell_type": "markdown",
      "source": "Here is an example of 'currying': a function that returns a new function, with some of the original arguments bound.",
      "metadata": {
        "pycharm": {
          "name": "#%% md\n"
        },
        "slideshow": {
          "slide_type": "fragment"
        }
      }
    },
    {
      "cell_type": "code",
      "source": "def multiply (n): \n    return lambda x: x*n\n \nf = multiply(2)\ng = multiply(6)\nf",
      "metadata": {
        "pycharm": {
          "name": "#%%\n"
        },
        "slideshow": {
          "slide_type": "-"
        },
        "trusted": true
      },
      "execution_count": 74,
      "outputs": [
        {
          "execution_count": 74,
          "output_type": "execute_result",
          "data": {
            "text/plain": "<function __main__.multiply.<locals>.<lambda>(x)>"
          },
          "metadata": {}
        }
      ]
    },
    {
      "cell_type": "code",
      "source": "f(10)",
      "metadata": {
        "pycharm": {
          "name": "#%%\n"
        },
        "slideshow": {
          "slide_type": "fragment"
        },
        "trusted": true
      },
      "execution_count": 75,
      "outputs": [
        {
          "execution_count": 75,
          "output_type": "execute_result",
          "data": {
            "text/plain": "20"
          },
          "metadata": {}
        }
      ]
    },
    {
      "cell_type": "code",
      "source": "g(10)",
      "metadata": {
        "pycharm": {
          "name": "#%%\n"
        },
        "slideshow": {
          "slide_type": "fragment"
        },
        "trusted": true
      },
      "execution_count": 76,
      "outputs": [
        {
          "execution_count": 76,
          "output_type": "execute_result",
          "data": {
            "text/plain": "60"
          },
          "metadata": {}
        }
      ]
    },
    {
      "cell_type": "code",
      "source": "multiply(3)(30)",
      "metadata": {
        "pycharm": {
          "name": "#%%\n"
        },
        "slideshow": {
          "slide_type": "fragment"
        },
        "trusted": true
      },
      "execution_count": 77,
      "outputs": [
        {
          "execution_count": 77,
          "output_type": "execute_result",
          "data": {
            "text/plain": "90"
          },
          "metadata": {}
        }
      ]
    },
    {
      "cell_type": "markdown",
      "source": "### Map",
      "metadata": {
        "pycharm": {
          "name": "#%% md\n"
        },
        "slideshow": {
          "slide_type": "slide"
        }
      }
    },
    {
      "cell_type": "markdown",
      "source": "Our first example of functional programming will be the **map** operator:\n\n`r = map(func, s)`\n\n`func` is a function and `s` is a sequence (e.g., a list). \n\n`map()` returns an object that will apply function `func` to each of the elements of `s`.",
      "metadata": {
        "pycharm": {
          "name": "#%% md\n"
        },
        "slideshow": {
          "slide_type": "fragment"
        }
      }
    },
    {
      "cell_type": "code",
      "source": "def dollar2euro(x):\n    return 0.89*x\ndef euro2dollar(x):\n    return 1.12*x\n\namounts= (100, 200, 300, 400)\ndollars = map(dollar2euro, amounts)\nlist(dollars)",
      "metadata": {
        "pycharm": {
          "name": "#%%\n"
        },
        "slideshow": {
          "slide_type": "fragment"
        },
        "trusted": true
      },
      "execution_count": 78,
      "outputs": [
        {
          "execution_count": 78,
          "output_type": "execute_result",
          "data": {
            "text/plain": "[89.0, 178.0, 267.0, 356.0]"
          },
          "metadata": {}
        }
      ]
    },
    {
      "cell_type": "code",
      "source": "amounts= (100, 200, 300, 400)\neuros = map(euro2dollar, amounts)\nlist(euros)",
      "metadata": {
        "pycharm": {
          "name": "#%%\n"
        },
        "slideshow": {
          "slide_type": "fragment"
        },
        "trusted": true
      },
      "execution_count": 79,
      "outputs": [
        {
          "execution_count": 79,
          "output_type": "execute_result",
          "data": {
            "text/plain": "[112.00000000000001,\n 224.00000000000003,\n 336.00000000000006,\n 448.00000000000006]"
          },
          "metadata": {}
        }
      ]
    },
    {
      "cell_type": "code",
      "source": "list(map(lambda x: 0.89*x, amounts))",
      "metadata": {
        "pycharm": {
          "name": "#%%\n"
        },
        "slideshow": {
          "slide_type": "fragment"
        },
        "trusted": true
      },
      "execution_count": 80,
      "outputs": [
        {
          "execution_count": 80,
          "output_type": "execute_result",
          "data": {
            "text/plain": "[89.0, 178.0, 267.0, 356.0]"
          },
          "metadata": {}
        }
      ]
    },
    {
      "cell_type": "markdown",
      "source": "**map** can also be applied to more than one list as long as they are of the same size and type",
      "metadata": {
        "pycharm": {
          "name": "#%% md\n"
        },
        "slideshow": {
          "slide_type": "fragment"
        }
      }
    },
    {
      "cell_type": "code",
      "source": "a = [1,2,3,4,5]\nb = [10, 20 , 30, 40, 50]\n\nl1 = map(lambda x,y: x+y, a,b)\nlist(l1)",
      "metadata": {
        "pycharm": {
          "name": "#%%\n"
        },
        "slideshow": {
          "slide_type": "-"
        },
        "trusted": true
      },
      "execution_count": 81,
      "outputs": [
        {
          "execution_count": 81,
          "output_type": "execute_result",
          "data": {
            "text/plain": "[11, 22, 33, 44, 55]"
          },
          "metadata": {}
        }
      ]
    },
    {
      "cell_type": "markdown",
      "source": "### Filter",
      "metadata": {
        "pycharm": {
          "name": "#%% md\n"
        },
        "slideshow": {
          "slide_type": "slide"
        }
      }
    },
    {
      "cell_type": "markdown",
      "source": "The next functional operator is **filter**.  \n\n`filter(function, list)` returns a new list containing all the elements of `list` for which `function()` evaluates to `True.` ",
      "metadata": {
        "pycharm": {
          "name": "#%% md\n"
        },
        "slideshow": {
          "slide_type": "fragment"
        }
      }
    },
    {
      "cell_type": "code",
      "source": "nums = [i for i in range(100)]\neven = filter(lambda x: x%2==0 and x!=0, nums)\nprint(even)\nlist(even)",
      "metadata": {
        "pycharm": {
          "name": "#%%\n"
        },
        "slideshow": {
          "slide_type": "-"
        },
        "trusted": true
      },
      "execution_count": 82,
      "outputs": [
        {
          "name": "stdout",
          "text": "<filter object at 0x395b510>\n",
          "output_type": "stream"
        },
        {
          "execution_count": 82,
          "output_type": "execute_result",
          "data": {
            "text/plain": "[2,\n 4,\n 6,\n 8,\n 10,\n 12,\n 14,\n 16,\n 18,\n 20,\n 22,\n 24,\n 26,\n 28,\n 30,\n 32,\n 34,\n 36,\n 38,\n 40,\n 42,\n 44,\n 46,\n 48,\n 50,\n 52,\n 54,\n 56,\n 58,\n 60,\n 62,\n 64,\n 66,\n 68,\n 70,\n 72,\n 74,\n 76,\n 78,\n 80,\n 82,\n 84,\n 86,\n 88,\n 90,\n 92,\n 94,\n 96,\n 98]"
          },
          "metadata": {}
        }
      ]
    },
    {
      "cell_type": "markdown",
      "source": "## Libraries",
      "metadata": {
        "pycharm": {
          "name": "#%% md\n"
        },
        "slideshow": {
          "slide_type": "slide"
        }
      }
    },
    {
      "cell_type": "markdown",
      "source": "Python is a high-level open-source language.  But the _Python world_ is inhabited by many packages or libraries that provide useful things like array operations, plotting functions, and much more. \n\nWe can (and we will) import many different libraries of functions to expand the capabilities of Python in our programs.  \n",
      "metadata": {
        "pycharm": {
          "name": "#%% md\n"
        },
        "slideshow": {
          "slide_type": "-"
        }
      }
    },
    {
      "cell_type": "code",
      "source": "import random\nmyList = [2, 109, False, 10, \"data\", 482, \"mining\"]\nrandom.choice(myList)",
      "metadata": {
        "pycharm": {
          "name": "#%%\n"
        },
        "slideshow": {
          "slide_type": "fragment"
        },
        "trusted": true
      },
      "execution_count": 83,
      "outputs": [
        {
          "execution_count": 83,
          "output_type": "execute_result",
          "data": {
            "text/plain": "109"
          },
          "metadata": {}
        }
      ]
    },
    {
      "cell_type": "code",
      "source": "from random import shuffle\nx = list(range(10))\nshuffle(x)\nx",
      "metadata": {
        "pycharm": {
          "name": "#%%\n"
        },
        "slideshow": {
          "slide_type": "fragment"
        },
        "trusted": true
      },
      "execution_count": 84,
      "outputs": [
        {
          "execution_count": 84,
          "output_type": "execute_result",
          "data": {
            "text/plain": "[7, 3, 9, 5, 1, 2, 0, 4, 6, 8]"
          },
          "metadata": {}
        }
      ]
    }
  ]
}